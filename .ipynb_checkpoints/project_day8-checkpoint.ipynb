{
 "cells": [
  {
   "cell_type": "markdown",
   "id": "4c6c2ce1-61e3-4f62-bf7f-6ac5abd95b7b",
   "metadata": {},
   "source": [
    "# Summer 2024 Paris Olympics Exploration\n",
    "\n",
    "[Data](https://www.kaggle.com/datasets/muhammadehsan02/olympic-summer-games-paris-2024?resource=download)\n",
    "\n",
    "### Setup"
   ]
  },
  {
   "cell_type": "code",
   "execution_count": 1,
   "id": "77cb57b8-f6c3-4d11-bfe4-a3aab3d45ddf",
   "metadata": {
    "tags": []
   },
   "outputs": [],
   "source": [
    "import pandas as pd\n",
    "import numpy as np\n",
    "import seaborn as sns\n",
    "import matplotlib.pyplot as plt"
   ]
  },
  {
   "cell_type": "markdown",
   "id": "8895e431-a2b0-429c-a804-8eefb88d321b",
   "metadata": {},
   "source": [
    "## 1. Import Data"
   ]
  },
  {
   "cell_type": "code",
   "execution_count": 20,
   "id": "bc17de45-340b-42ad-b95b-8075778aee0d",
   "metadata": {
    "tags": []
   },
   "outputs": [],
   "source": [
    "athletes_df = pd.read_csv(\"~/MEDS/EDS-217/eds217-project/raw_data/athletes.csv\")"
   ]
  },
  {
   "cell_type": "markdown",
   "id": "e540a3e5-f942-4bb4-a8e3-01fe709cf43d",
   "metadata": {},
   "source": [
    "## 2. Explore Data"
   ]
  },
  {
   "cell_type": "code",
   "execution_count": 3,
   "id": "f20e1561-db69-496d-b3d6-db48e1afc06e",
   "metadata": {
    "tags": []
   },
   "outputs": [
    {
     "data": {
      "text/html": [
       "<div>\n",
       "<style scoped>\n",
       "    .dataframe tbody tr th:only-of-type {\n",
       "        vertical-align: middle;\n",
       "    }\n",
       "\n",
       "    .dataframe tbody tr th {\n",
       "        vertical-align: top;\n",
       "    }\n",
       "\n",
       "    .dataframe thead th {\n",
       "        text-align: right;\n",
       "    }\n",
       "</style>\n",
       "<table border=\"1\" class=\"dataframe\">\n",
       "  <thead>\n",
       "    <tr style=\"text-align: right;\">\n",
       "      <th></th>\n",
       "      <th>code</th>\n",
       "      <th>name</th>\n",
       "      <th>name_short</th>\n",
       "      <th>name_tv</th>\n",
       "      <th>gender</th>\n",
       "      <th>function</th>\n",
       "      <th>country_code</th>\n",
       "      <th>country</th>\n",
       "      <th>country_long</th>\n",
       "      <th>nationality</th>\n",
       "      <th>...</th>\n",
       "      <th>family</th>\n",
       "      <th>lang</th>\n",
       "      <th>coach</th>\n",
       "      <th>reason</th>\n",
       "      <th>hero</th>\n",
       "      <th>influence</th>\n",
       "      <th>philosophy</th>\n",
       "      <th>sporting_relatives</th>\n",
       "      <th>ritual</th>\n",
       "      <th>other_sports</th>\n",
       "    </tr>\n",
       "  </thead>\n",
       "  <tbody>\n",
       "    <tr>\n",
       "      <th>0</th>\n",
       "      <td>1532872</td>\n",
       "      <td>ALEKSANYAN Artur</td>\n",
       "      <td>ALEKSANYAN A</td>\n",
       "      <td>Artur ALEKSANYAN</td>\n",
       "      <td>Male</td>\n",
       "      <td>Athlete</td>\n",
       "      <td>ARM</td>\n",
       "      <td>Armenia</td>\n",
       "      <td>Armenia</td>\n",
       "      <td>Armenia</td>\n",
       "      <td>...</td>\n",
       "      <td>Father, Gevorg Aleksanyan</td>\n",
       "      <td>Armenian, English, Russian</td>\n",
       "      <td>Gevorg Aleksanyan (ARM), father</td>\n",
       "      <td>He followed his father and his uncle into the ...</td>\n",
       "      <td>Footballer Zinedine Zidane (FRA), World Cup wi...</td>\n",
       "      <td>His father, Gevorg Aleksanyan</td>\n",
       "      <td>\"Wrestling is my life.\" (mediamax.am. 18 May 2...</td>\n",
       "      <td>NaN</td>\n",
       "      <td>NaN</td>\n",
       "      <td>NaN</td>\n",
       "    </tr>\n",
       "    <tr>\n",
       "      <th>1</th>\n",
       "      <td>1532873</td>\n",
       "      <td>AMOYAN Malkhas</td>\n",
       "      <td>AMOYAN M</td>\n",
       "      <td>Malkhas AMOYAN</td>\n",
       "      <td>Male</td>\n",
       "      <td>Athlete</td>\n",
       "      <td>ARM</td>\n",
       "      <td>Armenia</td>\n",
       "      <td>Armenia</td>\n",
       "      <td>Armenia</td>\n",
       "      <td>...</td>\n",
       "      <td>NaN</td>\n",
       "      <td>Armenian</td>\n",
       "      <td>NaN</td>\n",
       "      <td>NaN</td>\n",
       "      <td>NaN</td>\n",
       "      <td>NaN</td>\n",
       "      <td>\"To become a good athlete, you first have to b...</td>\n",
       "      <td>Uncle, Roman Amoyan (wrestling), 2008 Olympic ...</td>\n",
       "      <td>NaN</td>\n",
       "      <td>NaN</td>\n",
       "    </tr>\n",
       "    <tr>\n",
       "      <th>2</th>\n",
       "      <td>1532874</td>\n",
       "      <td>GALSTYAN Slavik</td>\n",
       "      <td>GALSTYAN S</td>\n",
       "      <td>Slavik GALSTYAN</td>\n",
       "      <td>Male</td>\n",
       "      <td>Athlete</td>\n",
       "      <td>ARM</td>\n",
       "      <td>Armenia</td>\n",
       "      <td>Armenia</td>\n",
       "      <td>Armenia</td>\n",
       "      <td>...</td>\n",
       "      <td>NaN</td>\n",
       "      <td>Armenian</td>\n",
       "      <td>Personal: Martin Alekhanyan (ARM).&lt;br&gt;National...</td>\n",
       "      <td>NaN</td>\n",
       "      <td>NaN</td>\n",
       "      <td>NaN</td>\n",
       "      <td>NaN</td>\n",
       "      <td>NaN</td>\n",
       "      <td>NaN</td>\n",
       "      <td>NaN</td>\n",
       "    </tr>\n",
       "    <tr>\n",
       "      <th>3</th>\n",
       "      <td>1532944</td>\n",
       "      <td>HARUTYUNYAN Arsen</td>\n",
       "      <td>HARUTYUNYAN A</td>\n",
       "      <td>Arsen HARUTYUNYAN</td>\n",
       "      <td>Male</td>\n",
       "      <td>Athlete</td>\n",
       "      <td>ARM</td>\n",
       "      <td>Armenia</td>\n",
       "      <td>Armenia</td>\n",
       "      <td>Armenia</td>\n",
       "      <td>...</td>\n",
       "      <td>Wife, Diana (married October 2022). Daughter, ...</td>\n",
       "      <td>Armenian</td>\n",
       "      <td>National: Habetnak Kurghinyan</td>\n",
       "      <td>While doing karate he noticed wrestlers traini...</td>\n",
       "      <td>Wrestler Armen Nazaryan (ARM, BUL), two-time O...</td>\n",
       "      <td>NaN</td>\n",
       "      <td>“Nothing is impossible, set goals in front of ...</td>\n",
       "      <td>NaN</td>\n",
       "      <td>NaN</td>\n",
       "      <td>NaN</td>\n",
       "    </tr>\n",
       "    <tr>\n",
       "      <th>4</th>\n",
       "      <td>1532945</td>\n",
       "      <td>TEVANYAN Vazgen</td>\n",
       "      <td>TEVANYAN V</td>\n",
       "      <td>Vazgen TEVANYAN</td>\n",
       "      <td>Male</td>\n",
       "      <td>Athlete</td>\n",
       "      <td>ARM</td>\n",
       "      <td>Armenia</td>\n",
       "      <td>Armenia</td>\n",
       "      <td>Armenia</td>\n",
       "      <td>...</td>\n",
       "      <td>Wife, Sona (married November 2023)</td>\n",
       "      <td>Armenian, Russian</td>\n",
       "      <td>National: Habetnak Kurghinyan (ARM)</td>\n",
       "      <td>“My family did not like wrestling very much. A...</td>\n",
       "      <td>NaN</td>\n",
       "      <td>NaN</td>\n",
       "      <td>NaN</td>\n",
       "      <td>NaN</td>\n",
       "      <td>NaN</td>\n",
       "      <td>NaN</td>\n",
       "    </tr>\n",
       "  </tbody>\n",
       "</table>\n",
       "<p>5 rows × 35 columns</p>\n",
       "</div>"
      ],
      "text/plain": [
       "      code               name     name_short            name_tv gender  \\\n",
       "0  1532872   ALEKSANYAN Artur   ALEKSANYAN A   Artur ALEKSANYAN   Male   \n",
       "1  1532873     AMOYAN Malkhas       AMOYAN M     Malkhas AMOYAN   Male   \n",
       "2  1532874    GALSTYAN Slavik     GALSTYAN S    Slavik GALSTYAN   Male   \n",
       "3  1532944  HARUTYUNYAN Arsen  HARUTYUNYAN A  Arsen HARUTYUNYAN   Male   \n",
       "4  1532945    TEVANYAN Vazgen     TEVANYAN V    Vazgen TEVANYAN   Male   \n",
       "\n",
       "  function country_code  country country_long nationality  ...  \\\n",
       "0  Athlete          ARM  Armenia      Armenia     Armenia  ...   \n",
       "1  Athlete          ARM  Armenia      Armenia     Armenia  ...   \n",
       "2  Athlete          ARM  Armenia      Armenia     Armenia  ...   \n",
       "3  Athlete          ARM  Armenia      Armenia     Armenia  ...   \n",
       "4  Athlete          ARM  Armenia      Armenia     Armenia  ...   \n",
       "\n",
       "                                              family  \\\n",
       "0                          Father, Gevorg Aleksanyan   \n",
       "1                                                NaN   \n",
       "2                                                NaN   \n",
       "3  Wife, Diana (married October 2022). Daughter, ...   \n",
       "4                 Wife, Sona (married November 2023)   \n",
       "\n",
       "                         lang  \\\n",
       "0  Armenian, English, Russian   \n",
       "1                    Armenian   \n",
       "2                    Armenian   \n",
       "3                    Armenian   \n",
       "4           Armenian, Russian   \n",
       "\n",
       "                                               coach  \\\n",
       "0                    Gevorg Aleksanyan (ARM), father   \n",
       "1                                                NaN   \n",
       "2  Personal: Martin Alekhanyan (ARM).<br>National...   \n",
       "3                      National: Habetnak Kurghinyan   \n",
       "4                National: Habetnak Kurghinyan (ARM)   \n",
       "\n",
       "                                              reason  \\\n",
       "0  He followed his father and his uncle into the ...   \n",
       "1                                                NaN   \n",
       "2                                                NaN   \n",
       "3  While doing karate he noticed wrestlers traini...   \n",
       "4  “My family did not like wrestling very much. A...   \n",
       "\n",
       "                                                hero  \\\n",
       "0  Footballer Zinedine Zidane (FRA), World Cup wi...   \n",
       "1                                                NaN   \n",
       "2                                                NaN   \n",
       "3  Wrestler Armen Nazaryan (ARM, BUL), two-time O...   \n",
       "4                                                NaN   \n",
       "\n",
       "                       influence  \\\n",
       "0  His father, Gevorg Aleksanyan   \n",
       "1                            NaN   \n",
       "2                            NaN   \n",
       "3                            NaN   \n",
       "4                            NaN   \n",
       "\n",
       "                                          philosophy  \\\n",
       "0  \"Wrestling is my life.\" (mediamax.am. 18 May 2...   \n",
       "1  \"To become a good athlete, you first have to b...   \n",
       "2                                                NaN   \n",
       "3  “Nothing is impossible, set goals in front of ...   \n",
       "4                                                NaN   \n",
       "\n",
       "                                  sporting_relatives ritual other_sports  \n",
       "0                                                NaN    NaN          NaN  \n",
       "1  Uncle, Roman Amoyan (wrestling), 2008 Olympic ...    NaN          NaN  \n",
       "2                                                NaN    NaN          NaN  \n",
       "3                                                NaN    NaN          NaN  \n",
       "4                                                NaN    NaN          NaN  \n",
       "\n",
       "[5 rows x 35 columns]"
      ]
     },
     "execution_count": 3,
     "metadata": {},
     "output_type": "execute_result"
    }
   ],
   "source": [
    "athletes_df.info\n",
    "athletes_df.head()"
   ]
  },
  {
   "cell_type": "markdown",
   "id": "fe284fdf-cf80-4b2e-8193-84b929dbf875",
   "metadata": {},
   "source": [
    "## 3. Clean Data\n",
    "\n",
    "Formatted birthdays and formatted discipline names"
   ]
  },
  {
   "cell_type": "code",
   "execution_count": 21,
   "id": "31863101-86e2-49a7-8c9e-cd6e94f49bd2",
   "metadata": {
    "tags": []
   },
   "outputs": [],
   "source": [
    "athletes_df['birth_date'] = pd.to_datetime(athletes_df['birth_date'], format= \"%Y-%m-%d\")\n",
    "athletes_df['disciplines'] = athletes_df['disciplines'].astype('string')"
   ]
  },
  {
   "cell_type": "code",
   "execution_count": 24,
   "id": "4da4a6c0-9209-42f4-8e0b-66102a6ad364",
   "metadata": {
    "tags": []
   },
   "outputs": [],
   "source": [
    "# Fixing formatting\n",
    "athletes_df['disciplines'] = athletes_df['disciplines'].str.replace(\"['\", \" \").str.replace(\"']\", \" \").str.strip()"
   ]
  },
  {
   "cell_type": "markdown",
   "id": "25b9bd57-e326-4623-9491-da80e0294591",
   "metadata": {},
   "source": [
    "## 4. Filter Data\n",
    "\n",
    "Select desired columns, filter discipline to desired sports"
   ]
  },
  {
   "cell_type": "code",
   "execution_count": 6,
   "id": "cee3223e-30f7-4d38-a9c0-78997ad39110",
   "metadata": {
    "tags": []
   },
   "outputs": [],
   "source": [
    "# Selecting columns\n",
    "ath_select = athletes_df[['name', 'gender', 'country', 'events', 'birth_date', 'nickname', 'hobbies', 'occupation', 'philosophy', 'disciplines']].copy()"
   ]
  },
  {
   "cell_type": "code",
   "execution_count": 7,
   "id": "7d1677c1-574e-4996-bdab-dbd65d50cff2",
   "metadata": {
    "tags": []
   },
   "outputs": [],
   "source": [
    "# Filtering by sport\n",
    "ath_filter = ath_select[ath_select['disciplines'].isin(['Diving', 'Sailing', 'Swimming', 'Surfing', 'Water Polo', 'Shooting', 'Archcery', 'Badminton', 'Trampoline Gymnastics', 'Artistic Gymnastics', 'Sport Climbing', 'Judo', 'Weightlifting', 'Wrestling', 'Cycling Mountain Bike', 'Basketball', 'Volleyball', 'Rugby Sevens', 'Football', 'Fencing'])].copy()"
   ]
  },
  {
   "cell_type": "markdown",
   "id": "47438d40-1cac-49d5-be9d-0b53be7ed195",
   "metadata": {},
   "source": [
    "## 6. Transform Data\n",
    "\n",
    "1. Turned birthday (YYYY-MM-DD) into day of the year\n",
    "2. Assigned horoscope based on day of the year\n",
    "3. Assigned element based on horoscope\n",
    "4. Arbitrarily assigned discipline element based on discipline\n",
    "5. Checked if horoscope element matched discipline element"
   ]
  },
  {
   "cell_type": "markdown",
   "id": "9eb8d8de-a401-417e-b6ae-6deeed616886",
   "metadata": {},
   "source": [
    "### 1. Birthday to Day of the Year"
   ]
  },
  {
   "cell_type": "code",
   "execution_count": 8,
   "id": "7e3048b5-08c5-412d-9abd-bb713cb0f7a4",
   "metadata": {
    "tags": []
   },
   "outputs": [],
   "source": [
    "def day_of_year_func(df):\n",
    "    return df.timetuple().tm_yday"
   ]
  },
  {
   "cell_type": "code",
   "execution_count": 9,
   "id": "7ea8d007-b284-44ca-8e7a-d98a2ecf8fa8",
   "metadata": {
    "tags": []
   },
   "outputs": [],
   "source": [
    "ath_filter['day_of_year'] = ath_filter['birth_date'].apply(day_of_year_func)"
   ]
  },
  {
   "cell_type": "markdown",
   "id": "4d6a4c3e-3b90-475b-a76c-6e88fd249e77",
   "metadata": {},
   "source": [
    "### 2. Assign Horoscope Based on Day of the Year"
   ]
  },
  {
   "cell_type": "code",
   "execution_count": 10,
   "id": "caf5e485-2246-4090-b265-780318da627f",
   "metadata": {
    "tags": []
   },
   "outputs": [],
   "source": [
    "# function to assign horoscope based on day of year\n",
    "def get_sign(df):\n",
    "    if ((df >= 20) & (df <=49)):\n",
    "        return 'Aquarius'\n",
    "    elif ((df >= 50) & (df <=80)):\n",
    "        return 'Pisces'\n",
    "    elif ((df >= 81) & (df <=110)):\n",
    "        return 'Aries'\n",
    "    elif ((df >= 111) & (df <=140)):\n",
    "        return 'Taurus'\n",
    "    elif ((df >= 141) & (df <=172)):\n",
    "        return 'Gemini'\n",
    "    elif ((df >= 173) & (df <=204)):\n",
    "        return 'Cancer'\n",
    "    elif ((df >= 205) & (df <=234)):\n",
    "        return 'Leo'\n",
    "    elif ((df >= 235) & (df <=265)):\n",
    "        return 'Virgo'\n",
    "    elif ((df >= 266) & (df <=295)):\n",
    "        return 'Libra'\n",
    "    elif ((df >= 296) & (df <=325)):\n",
    "        return 'Scorpio'\n",
    "    elif ((df >= 326) & (df <=356)):\n",
    "        return 'Sagittarius'\n",
    "    elif ((df >= 357) | (df <= 19)):\n",
    "        return 'Capricorn'"
   ]
  },
  {
   "cell_type": "code",
   "execution_count": 11,
   "id": "8c746973-e249-4806-a40c-8b7a8c8304a6",
   "metadata": {
    "tags": []
   },
   "outputs": [],
   "source": [
    "# applying get_sign to the data frame\n",
    "ath_filter['sign'] = ath_filter['day_of_year'].apply(get_sign)"
   ]
  },
  {
   "cell_type": "markdown",
   "id": "7c2effbe-9fd6-4bf0-ba18-5d8b9c4f41b2",
   "metadata": {},
   "source": [
    "### 3. Assign Element based on Horoscope"
   ]
  },
  {
   "cell_type": "code",
   "execution_count": 12,
   "id": "fc91eca0-5f58-4823-81e2-c39d823c60f8",
   "metadata": {
    "tags": []
   },
   "outputs": [],
   "source": [
    "def find_element(df):\n",
    "    if ((df == 'Aries') | (df == 'Leo') | (df == 'Sagittarius')):\n",
    "        return(\"Fire\")\n",
    "        \n",
    "    elif ((df == 'Taurus') | (df == 'Virgo') | (df == 'Capricorn')):\n",
    "        return(\"Earth\")\n",
    "        \n",
    "    elif ((df == 'Gemini') | (df == 'Libra') | (df == 'Aquarius')):\n",
    "        return(\"Air\")\n",
    "        \n",
    "    elif ((df == 'Cancer') | (df == 'Scorpio') | (df == 'Pisces')):\n",
    "        return(\"Water\")"
   ]
  },
  {
   "cell_type": "code",
   "execution_count": 26,
   "id": "300ef06c-f71f-4fae-b55f-93f18728dc61",
   "metadata": {
    "tags": []
   },
   "outputs": [],
   "source": [
    "# apply find_element function to data frame\n",
    "ath_filter['element'] = ath_filter['sign'].apply(find_element)"
   ]
  },
  {
   "cell_type": "markdown",
   "id": "f763dc57-2b80-41a6-bf68-b3f8a98a07aa",
   "metadata": {},
   "source": [
    "### 4. Arbitrarily Assigning Sports to Elements"
   ]
  },
  {
   "cell_type": "code",
   "execution_count": 13,
   "id": "91cdc3b7-ae7f-4545-946f-530268b59763",
   "metadata": {
    "tags": []
   },
   "outputs": [],
   "source": [
    "# Create function to assign element to olympic discipline\n",
    "def find_element_sport(df):\n",
    "    if ((df == 'Basketball') | (df == 'Volleyball') | (df == 'Rugby Sevens')| (df == 'Football') | (df == 'Fencing')):\n",
    "        return(\"Fire\")\n",
    "        \n",
    "    elif ((df == 'Sport Climbing') | (df == 'Judo') | (df == 'Weightlifting')| (df == 'Wrestling') | (df == 'Cycling Mountain Bike')):\n",
    "        return(\"Earth\")\n",
    "        \n",
    "    elif ((df == 'Shooting') | (df == 'Archery') | (df == 'Badminton')| (df == 'Trampoline') | (df == 'Artistic Gymnastics')):\n",
    "        return(\"Air\")\n",
    "        \n",
    "    elif ((df == 'Swimming') | (df == 'Diving') | (df == 'Sailing')| (df == 'Surfing') | (df == 'Water Polo')):\n",
    "        return(\"Water\")"
   ]
  },
  {
   "cell_type": "code",
   "execution_count": 27,
   "id": "899cccbd-0092-41b3-83a3-fe052be03e80",
   "metadata": {
    "tags": []
   },
   "outputs": [],
   "source": [
    "# apply function to dataframe\n",
    "ath_filter['discipline_element'] = ath_filter['disciplines'].apply(find_element_sport)"
   ]
  },
  {
   "cell_type": "markdown",
   "id": "96ebb7ed-45b2-4ea7-8cb8-47147e960107",
   "metadata": {},
   "source": [
    "### 5. Does horoscope element match arbitrary discipline element?"
   ]
  },
  {
   "cell_type": "code",
   "execution_count": 16,
   "id": "1b98bd73-157d-4d31-8ec4-09eb8058b30a",
   "metadata": {
    "tags": []
   },
   "outputs": [],
   "source": [
    "def element_match_func(col1, col2):\n",
    "    if col1 == col2:\n",
    "        return \"Yes\"\n",
    "    else:\n",
    "        return \"No\""
   ]
  },
  {
   "cell_type": "code",
   "execution_count": 28,
   "id": "37d822de-26d1-4641-9f3b-8e6064035331",
   "metadata": {
    "tags": []
   },
   "outputs": [],
   "source": [
    "ath_filter['match'] = ath_filter['element'] == ath_filter['discipline_element']"
   ]
  },
  {
   "cell_type": "markdown",
   "id": "4047d8e7-8fb2-47de-9b6e-3bd8b2dea12b",
   "metadata": {},
   "source": [
    "## 9. Visualize Data"
   ]
  },
  {
   "cell_type": "code",
   "execution_count": 18,
   "id": "79a133ba-7f85-4185-9da4-d4ff281a2092",
   "metadata": {
    "tags": []
   },
   "outputs": [
    {
     "data": {
      "text/plain": [
       "([0, 1, 2, 3, 4, 5, 6, 7, 8, 9, 10, 11],\n",
       " [Text(0, 0, 'Libra'),\n",
       "  Text(1, 0, 'Aquarius'),\n",
       "  Text(2, 0, 'Sagittarius'),\n",
       "  Text(3, 0, 'Scorpio'),\n",
       "  Text(4, 0, 'Cancer'),\n",
       "  Text(5, 0, 'Capricorn'),\n",
       "  Text(6, 0, 'Pisces'),\n",
       "  Text(7, 0, 'Leo'),\n",
       "  Text(8, 0, 'Aries'),\n",
       "  Text(9, 0, 'Taurus'),\n",
       "  Text(10, 0, 'Gemini'),\n",
       "  Text(11, 0, 'Virgo')])"
      ]
     },
     "execution_count": 18,
     "metadata": {},
     "output_type": "execute_result"
    },
    {
     "data": {
      "image/png": "[encoded data removed]",
      "text/plain": [
       "<Figure size 640x480 with 1 Axes>"
      ]
     },
     "metadata": {},
     "output_type": "display_data"
    }
   ],
   "source": [
    "plt.figure()\n",
    "sns.histplot(data=ath_filter['sign'])\n",
    "plt.xticks(rotation=45, ha='right')"
   ]
  },
  {
   "cell_type": "code",
   "execution_count": 19,
   "id": "0e1f7847-6bc0-4d64-aedd-035c7d0f5927",
   "metadata": {
    "tags": []
   },
   "outputs": [
    {
     "data": {
      "text/plain": [
       "([0, 1, 2, 3],\n",
       " [Text(0, 0, 'Air'),\n",
       "  Text(1, 0, 'Fire'),\n",
       "  Text(2, 0, 'Water'),\n",
       "  Text(3, 0, 'Earth')])"
      ]
     },
     "execution_count": 19,
     "metadata": {},
     "output_type": "execute_result"
    },
    {
     "data": {
      "image/png": "[encoded data removed]",
      "text/plain": [
       "<Figure size 640x480 with 1 Axes>"
      ]
     },
     "metadata": {},
     "output_type": "display_data"
    }
   ],
   "source": [
    "plt.figure()\n",
    "sns.histplot(data=ath_filter['element'])\n",
    "plt.xticks(rotation=45, ha='right')"
   ]
  },
  {
   "cell_type": "markdown",
   "id": "b843113d-82e6-4f17-9796-080dcb350038",
   "metadata": {},
   "source": [
    "## Looking for Correlation between horoscope and discipline"
   ]
  },
  {
   "cell_type": "code",
   "execution_count": null,
   "id": "fc2cd4f0-c850-41ea-b9f5-5e961acd0691",
   "metadata": {},
   "outputs": [],
   "source": []
  }
 ],
 "metadata": {
  "kernelspec": {
   "display_name": "Python 3.10.0",
   "language": "python",
   "name": "python3.10.0"
  },
  "language_info": {
   "codemirror_mode": {
    "name": "ipython",
    "version": 3
   },
   "file_extension": ".py",
   "mimetype": "text/x-python",
   "name": "python",
   "nbconvert_exporter": "python",
   "pygments_lexer": "ipython3",
   "version": "3.10.0"
  }
 },
 "nbformat": 4,
 "nbformat_minor": 5
}
