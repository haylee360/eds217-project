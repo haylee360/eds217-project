{
 "cells": [
  {
   "cell_type": "markdown",
   "id": "4c6c2ce1-61e3-4f62-bf7f-6ac5abd95b7b",
   "metadata": {},
   "source": [
    "# Summer 2024 Paris Olympics Exploration\n",
    "\n",
    "Haylee Oyler and Kimberlee Wong\n",
    "\n",
    "[Data](https://www.kaggle.com/datasets/muhammadehsan02/olympic-summer-games-paris-2024?resource=download)\n",
    "\n",
    "### Setup"
   ]
  },
  {
   "cell_type": "code",
   "execution_count": 1,
   "id": "77cb57b8-f6c3-4d11-bfe4-a3aab3d45ddf",
   "metadata": {
    "tags": []
   },
   "outputs": [],
   "source": [
    "import pandas as pd\n",
    "import numpy as np\n",
    "import seaborn as sns\n",
    "import matplotlib.pyplot as plt\n",
    "from IPython.display import Image, display"
   ]
  },
  {
   "cell_type": "markdown",
   "id": "8895e431-a2b0-429c-a804-8eefb88d321b",
   "metadata": {},
   "source": [
    "## 1. Import Data"
   ]
  },
  {
   "cell_type": "code",
   "execution_count": 2,
   "id": "bc17de45-340b-42ad-b95b-8075778aee0d",
   "metadata": {
    "tags": []
   },
   "outputs": [],
   "source": [
    "athletes_df = pd.read_csv(\"~/MEDS/EDS-217/eds217-project/raw_data/athletes.csv\")\n",
    "medallist_df = pd.read_csv(\"~/MEDS/EDS-217/eds217-project/raw_data/medallists.csv\")"
   ]
  },
  {
   "cell_type": "markdown",
   "id": "e540a3e5-f942-4bb4-a8e3-01fe709cf43d",
   "metadata": {},
   "source": [
    "## 2. Explore Data"
   ]
  },
  {
   "cell_type": "code",
   "execution_count": 3,
   "id": "f20e1561-db69-496d-b3d6-db48e1afc06e",
   "metadata": {
    "tags": []
   },
   "outputs": [
    {
     "data": {
      "text/html": [
       "<div>\n",
       "<style scoped>\n",
       "    .dataframe tbody tr th:only-of-type {\n",
       "        vertical-align: middle;\n",
       "    }\n",
       "\n",
       "    .dataframe tbody tr th {\n",
       "        vertical-align: top;\n",
       "    }\n",
       "\n",
       "    .dataframe thead th {\n",
       "        text-align: right;\n",
       "    }\n",
       "</style>\n",
       "<table border=\"1\" class=\"dataframe\">\n",
       "  <thead>\n",
       "    <tr style=\"text-align: right;\">\n",
       "      <th></th>\n",
       "      <th>code</th>\n",
       "      <th>name</th>\n",
       "      <th>name_short</th>\n",
       "      <th>name_tv</th>\n",
       "      <th>gender</th>\n",
       "      <th>function</th>\n",
       "      <th>country_code</th>\n",
       "      <th>country</th>\n",
       "      <th>country_long</th>\n",
       "      <th>nationality</th>\n",
       "      <th>...</th>\n",
       "      <th>family</th>\n",
       "      <th>lang</th>\n",
       "      <th>coach</th>\n",
       "      <th>reason</th>\n",
       "      <th>hero</th>\n",
       "      <th>influence</th>\n",
       "      <th>philosophy</th>\n",
       "      <th>sporting_relatives</th>\n",
       "      <th>ritual</th>\n",
       "      <th>other_sports</th>\n",
       "    </tr>\n",
       "  </thead>\n",
       "  <tbody>\n",
       "    <tr>\n",
       "      <th>0</th>\n",
       "      <td>1532872</td>\n",
       "      <td>ALEKSANYAN Artur</td>\n",
       "      <td>ALEKSANYAN A</td>\n",
       "      <td>Artur ALEKSANYAN</td>\n",
       "      <td>Male</td>\n",
       "      <td>Athlete</td>\n",
       "      <td>ARM</td>\n",
       "      <td>Armenia</td>\n",
       "      <td>Armenia</td>\n",
       "      <td>Armenia</td>\n",
       "      <td>...</td>\n",
       "      <td>Father, Gevorg Aleksanyan</td>\n",
       "      <td>Armenian, English, Russian</td>\n",
       "      <td>Gevorg Aleksanyan (ARM), father</td>\n",
       "      <td>He followed his father and his uncle into the ...</td>\n",
       "      <td>Footballer Zinedine Zidane (FRA), World Cup wi...</td>\n",
       "      <td>His father, Gevorg Aleksanyan</td>\n",
       "      <td>\"Wrestling is my life.\" (mediamax.am. 18 May 2...</td>\n",
       "      <td>NaN</td>\n",
       "      <td>NaN</td>\n",
       "      <td>NaN</td>\n",
       "    </tr>\n",
       "    <tr>\n",
       "      <th>1</th>\n",
       "      <td>1532873</td>\n",
       "      <td>AMOYAN Malkhas</td>\n",
       "      <td>AMOYAN M</td>\n",
       "      <td>Malkhas AMOYAN</td>\n",
       "      <td>Male</td>\n",
       "      <td>Athlete</td>\n",
       "      <td>ARM</td>\n",
       "      <td>Armenia</td>\n",
       "      <td>Armenia</td>\n",
       "      <td>Armenia</td>\n",
       "      <td>...</td>\n",
       "      <td>NaN</td>\n",
       "      <td>Armenian</td>\n",
       "      <td>NaN</td>\n",
       "      <td>NaN</td>\n",
       "      <td>NaN</td>\n",
       "      <td>NaN</td>\n",
       "      <td>\"To become a good athlete, you first have to b...</td>\n",
       "      <td>Uncle, Roman Amoyan (wrestling), 2008 Olympic ...</td>\n",
       "      <td>NaN</td>\n",
       "      <td>NaN</td>\n",
       "    </tr>\n",
       "    <tr>\n",
       "      <th>2</th>\n",
       "      <td>1532874</td>\n",
       "      <td>GALSTYAN Slavik</td>\n",
       "      <td>GALSTYAN S</td>\n",
       "      <td>Slavik GALSTYAN</td>\n",
       "      <td>Male</td>\n",
       "      <td>Athlete</td>\n",
       "      <td>ARM</td>\n",
       "      <td>Armenia</td>\n",
       "      <td>Armenia</td>\n",
       "      <td>Armenia</td>\n",
       "      <td>...</td>\n",
       "      <td>NaN</td>\n",
       "      <td>Armenian</td>\n",
       "      <td>Personal: Martin Alekhanyan (ARM).&lt;br&gt;National...</td>\n",
       "      <td>NaN</td>\n",
       "      <td>NaN</td>\n",
       "      <td>NaN</td>\n",
       "      <td>NaN</td>\n",
       "      <td>NaN</td>\n",
       "      <td>NaN</td>\n",
       "      <td>NaN</td>\n",
       "    </tr>\n",
       "    <tr>\n",
       "      <th>3</th>\n",
       "      <td>1532944</td>\n",
       "      <td>HARUTYUNYAN Arsen</td>\n",
       "      <td>HARUTYUNYAN A</td>\n",
       "      <td>Arsen HARUTYUNYAN</td>\n",
       "      <td>Male</td>\n",
       "      <td>Athlete</td>\n",
       "      <td>ARM</td>\n",
       "      <td>Armenia</td>\n",
       "      <td>Armenia</td>\n",
       "      <td>Armenia</td>\n",
       "      <td>...</td>\n",
       "      <td>Wife, Diana (married October 2022). Daughter, ...</td>\n",
       "      <td>Armenian</td>\n",
       "      <td>National: Habetnak Kurghinyan</td>\n",
       "      <td>While doing karate he noticed wrestlers traini...</td>\n",
       "      <td>Wrestler Armen Nazaryan (ARM, BUL), two-time O...</td>\n",
       "      <td>NaN</td>\n",
       "      <td>“Nothing is impossible, set goals in front of ...</td>\n",
       "      <td>NaN</td>\n",
       "      <td>NaN</td>\n",
       "      <td>NaN</td>\n",
       "    </tr>\n",
       "    <tr>\n",
       "      <th>4</th>\n",
       "      <td>1532945</td>\n",
       "      <td>TEVANYAN Vazgen</td>\n",
       "      <td>TEVANYAN V</td>\n",
       "      <td>Vazgen TEVANYAN</td>\n",
       "      <td>Male</td>\n",
       "      <td>Athlete</td>\n",
       "      <td>ARM</td>\n",
       "      <td>Armenia</td>\n",
       "      <td>Armenia</td>\n",
       "      <td>Armenia</td>\n",
       "      <td>...</td>\n",
       "      <td>Wife, Sona (married November 2023)</td>\n",
       "      <td>Armenian, Russian</td>\n",
       "      <td>National: Habetnak Kurghinyan (ARM)</td>\n",
       "      <td>“My family did not like wrestling very much. A...</td>\n",
       "      <td>NaN</td>\n",
       "      <td>NaN</td>\n",
       "      <td>NaN</td>\n",
       "      <td>NaN</td>\n",
       "      <td>NaN</td>\n",
       "      <td>NaN</td>\n",
       "    </tr>\n",
       "  </tbody>\n",
       "</table>\n",
       "<p>5 rows × 35 columns</p>\n",
       "</div>"
      ],
      "text/plain": [
       "      code               name     name_short            name_tv gender  \\\n",
       "0  1532872   ALEKSANYAN Artur   ALEKSANYAN A   Artur ALEKSANYAN   Male   \n",
       "1  1532873     AMOYAN Malkhas       AMOYAN M     Malkhas AMOYAN   Male   \n",
       "2  1532874    GALSTYAN Slavik     GALSTYAN S    Slavik GALSTYAN   Male   \n",
       "3  1532944  HARUTYUNYAN Arsen  HARUTYUNYAN A  Arsen HARUTYUNYAN   Male   \n",
       "4  1532945    TEVANYAN Vazgen     TEVANYAN V    Vazgen TEVANYAN   Male   \n",
       "\n",
       "  function country_code  country country_long nationality  ...  \\\n",
       "0  Athlete          ARM  Armenia      Armenia     Armenia  ...   \n",
       "1  Athlete          ARM  Armenia      Armenia     Armenia  ...   \n",
       "2  Athlete          ARM  Armenia      Armenia     Armenia  ...   \n",
       "3  Athlete          ARM  Armenia      Armenia     Armenia  ...   \n",
       "4  Athlete          ARM  Armenia      Armenia     Armenia  ...   \n",
       "\n",
       "                                              family  \\\n",
       "0                          Father, Gevorg Aleksanyan   \n",
       "1                                                NaN   \n",
       "2                                                NaN   \n",
       "3  Wife, Diana (married October 2022). Daughter, ...   \n",
       "4                 Wife, Sona (married November 2023)   \n",
       "\n",
       "                         lang  \\\n",
       "0  Armenian, English, Russian   \n",
       "1                    Armenian   \n",
       "2                    Armenian   \n",
       "3                    Armenian   \n",
       "4           Armenian, Russian   \n",
       "\n",
       "                                               coach  \\\n",
       "0                    Gevorg Aleksanyan (ARM), father   \n",
       "1                                                NaN   \n",
       "2  Personal: Martin Alekhanyan (ARM).<br>National...   \n",
       "3                      National: Habetnak Kurghinyan   \n",
       "4                National: Habetnak Kurghinyan (ARM)   \n",
       "\n",
       "                                              reason  \\\n",
       "0  He followed his father and his uncle into the ...   \n",
       "1                                                NaN   \n",
       "2                                                NaN   \n",
       "3  While doing karate he noticed wrestlers traini...   \n",
       "4  “My family did not like wrestling very much. A...   \n",
       "\n",
       "                                                hero  \\\n",
       "0  Footballer Zinedine Zidane (FRA), World Cup wi...   \n",
       "1                                                NaN   \n",
       "2                                                NaN   \n",
       "3  Wrestler Armen Nazaryan (ARM, BUL), two-time O...   \n",
       "4                                                NaN   \n",
       "\n",
       "                       influence  \\\n",
       "0  His father, Gevorg Aleksanyan   \n",
       "1                            NaN   \n",
       "2                            NaN   \n",
       "3                            NaN   \n",
       "4                            NaN   \n",
       "\n",
       "                                          philosophy  \\\n",
       "0  \"Wrestling is my life.\" (mediamax.am. 18 May 2...   \n",
       "1  \"To become a good athlete, you first have to b...   \n",
       "2                                                NaN   \n",
       "3  “Nothing is impossible, set goals in front of ...   \n",
       "4                                                NaN   \n",
       "\n",
       "                                  sporting_relatives ritual other_sports  \n",
       "0                                                NaN    NaN          NaN  \n",
       "1  Uncle, Roman Amoyan (wrestling), 2008 Olympic ...    NaN          NaN  \n",
       "2                                                NaN    NaN          NaN  \n",
       "3                                                NaN    NaN          NaN  \n",
       "4                                                NaN    NaN          NaN  \n",
       "\n",
       "[5 rows x 35 columns]"
      ]
     },
     "execution_count": 3,
     "metadata": {},
     "output_type": "execute_result"
    }
   ],
   "source": [
    "athletes_df.info\n",
    "athletes_df.head()"
   ]
  },
  {
   "cell_type": "code",
   "execution_count": 4,
   "id": "708418f3-3e70-4b48-9302-f4ba9af41e4a",
   "metadata": {
    "tags": []
   },
   "outputs": [
    {
     "data": {
      "text/html": [
       "<div>\n",
       "<style scoped>\n",
       "    .dataframe tbody tr th:only-of-type {\n",
       "        vertical-align: middle;\n",
       "    }\n",
       "\n",
       "    .dataframe tbody tr th {\n",
       "        vertical-align: top;\n",
       "    }\n",
       "\n",
       "    .dataframe thead th {\n",
       "        text-align: right;\n",
       "    }\n",
       "</style>\n",
       "<table border=\"1\" class=\"dataframe\">\n",
       "  <thead>\n",
       "    <tr style=\"text-align: right;\">\n",
       "      <th></th>\n",
       "      <th>medal_date</th>\n",
       "      <th>medal_type</th>\n",
       "      <th>medal_code</th>\n",
       "      <th>name</th>\n",
       "      <th>gender</th>\n",
       "      <th>country_code</th>\n",
       "      <th>country</th>\n",
       "      <th>country_long</th>\n",
       "      <th>nationality</th>\n",
       "      <th>team</th>\n",
       "      <th>team_gender</th>\n",
       "      <th>discipline</th>\n",
       "      <th>event</th>\n",
       "      <th>event_type</th>\n",
       "      <th>url_event</th>\n",
       "      <th>birth_date</th>\n",
       "      <th>code_athlete</th>\n",
       "      <th>code_team</th>\n",
       "    </tr>\n",
       "  </thead>\n",
       "  <tbody>\n",
       "    <tr>\n",
       "      <th>0</th>\n",
       "      <td>2024-07-27</td>\n",
       "      <td>Gold Medal</td>\n",
       "      <td>1.0</td>\n",
       "      <td>EVENEPOEL Remco</td>\n",
       "      <td>Male</td>\n",
       "      <td>BEL</td>\n",
       "      <td>Belgium</td>\n",
       "      <td>Belgium</td>\n",
       "      <td>Belgium</td>\n",
       "      <td>NaN</td>\n",
       "      <td>NaN</td>\n",
       "      <td>Cycling Road</td>\n",
       "      <td>Men's Individual Time Trial</td>\n",
       "      <td>ATH</td>\n",
       "      <td>/en/paris-2024/results/cycling-road/men-s-indi...</td>\n",
       "      <td>2000-01-25</td>\n",
       "      <td>1903136</td>\n",
       "      <td>NaN</td>\n",
       "    </tr>\n",
       "    <tr>\n",
       "      <th>1</th>\n",
       "      <td>2024-07-27</td>\n",
       "      <td>Silver Medal</td>\n",
       "      <td>2.0</td>\n",
       "      <td>GANNA Filippo</td>\n",
       "      <td>Male</td>\n",
       "      <td>ITA</td>\n",
       "      <td>Italy</td>\n",
       "      <td>Italy</td>\n",
       "      <td>Italy</td>\n",
       "      <td>NaN</td>\n",
       "      <td>NaN</td>\n",
       "      <td>Cycling Road</td>\n",
       "      <td>Men's Individual Time Trial</td>\n",
       "      <td>ATH</td>\n",
       "      <td>/en/paris-2024/results/cycling-road/men-s-indi...</td>\n",
       "      <td>1996-07-25</td>\n",
       "      <td>1923520</td>\n",
       "      <td>NaN</td>\n",
       "    </tr>\n",
       "    <tr>\n",
       "      <th>2</th>\n",
       "      <td>2024-07-27</td>\n",
       "      <td>Bronze Medal</td>\n",
       "      <td>3.0</td>\n",
       "      <td>van AERT Wout</td>\n",
       "      <td>Male</td>\n",
       "      <td>BEL</td>\n",
       "      <td>Belgium</td>\n",
       "      <td>Belgium</td>\n",
       "      <td>Belgium</td>\n",
       "      <td>NaN</td>\n",
       "      <td>NaN</td>\n",
       "      <td>Cycling Road</td>\n",
       "      <td>Men's Individual Time Trial</td>\n",
       "      <td>ATH</td>\n",
       "      <td>/en/paris-2024/results/cycling-road/men-s-indi...</td>\n",
       "      <td>1994-09-15</td>\n",
       "      <td>1903147</td>\n",
       "      <td>NaN</td>\n",
       "    </tr>\n",
       "    <tr>\n",
       "      <th>3</th>\n",
       "      <td>2024-07-27</td>\n",
       "      <td>Gold Medal</td>\n",
       "      <td>1.0</td>\n",
       "      <td>BROWN Grace</td>\n",
       "      <td>Female</td>\n",
       "      <td>AUS</td>\n",
       "      <td>Australia</td>\n",
       "      <td>Australia</td>\n",
       "      <td>Australia</td>\n",
       "      <td>NaN</td>\n",
       "      <td>NaN</td>\n",
       "      <td>Cycling Road</td>\n",
       "      <td>Women's Individual Time Trial</td>\n",
       "      <td>ATH</td>\n",
       "      <td>/en/paris-2024/results/cycling-road/women-s-in...</td>\n",
       "      <td>1992-07-07</td>\n",
       "      <td>1940173</td>\n",
       "      <td>NaN</td>\n",
       "    </tr>\n",
       "    <tr>\n",
       "      <th>4</th>\n",
       "      <td>2024-07-27</td>\n",
       "      <td>Silver Medal</td>\n",
       "      <td>2.0</td>\n",
       "      <td>HENDERSON Anna</td>\n",
       "      <td>Female</td>\n",
       "      <td>GBR</td>\n",
       "      <td>Great Britain</td>\n",
       "      <td>Great Britain</td>\n",
       "      <td>Great Britain</td>\n",
       "      <td>NaN</td>\n",
       "      <td>NaN</td>\n",
       "      <td>Cycling Road</td>\n",
       "      <td>Women's Individual Time Trial</td>\n",
       "      <td>ATH</td>\n",
       "      <td>/en/paris-2024/results/cycling-road/women-s-in...</td>\n",
       "      <td>1998-11-14</td>\n",
       "      <td>1912525</td>\n",
       "      <td>NaN</td>\n",
       "    </tr>\n",
       "  </tbody>\n",
       "</table>\n",
       "</div>"
      ],
      "text/plain": [
       "   medal_date    medal_type  medal_code             name  gender country_code  \\\n",
       "0  2024-07-27    Gold Medal         1.0  EVENEPOEL Remco    Male          BEL   \n",
       "1  2024-07-27  Silver Medal         2.0    GANNA Filippo    Male          ITA   \n",
       "2  2024-07-27  Bronze Medal         3.0    van AERT Wout    Male          BEL   \n",
       "3  2024-07-27    Gold Medal         1.0      BROWN Grace  Female          AUS   \n",
       "4  2024-07-27  Silver Medal         2.0   HENDERSON Anna  Female          GBR   \n",
       "\n",
       "         country   country_long    nationality team team_gender    discipline  \\\n",
       "0        Belgium        Belgium        Belgium  NaN         NaN  Cycling Road   \n",
       "1          Italy          Italy          Italy  NaN         NaN  Cycling Road   \n",
       "2        Belgium        Belgium        Belgium  NaN         NaN  Cycling Road   \n",
       "3      Australia      Australia      Australia  NaN         NaN  Cycling Road   \n",
       "4  Great Britain  Great Britain  Great Britain  NaN         NaN  Cycling Road   \n",
       "\n",
       "                           event event_type  \\\n",
       "0    Men's Individual Time Trial        ATH   \n",
       "1    Men's Individual Time Trial        ATH   \n",
       "2    Men's Individual Time Trial        ATH   \n",
       "3  Women's Individual Time Trial        ATH   \n",
       "4  Women's Individual Time Trial        ATH   \n",
       "\n",
       "                                           url_event  birth_date  \\\n",
       "0  /en/paris-2024/results/cycling-road/men-s-indi...  2000-01-25   \n",
       "1  /en/paris-2024/results/cycling-road/men-s-indi...  1996-07-25   \n",
       "2  /en/paris-2024/results/cycling-road/men-s-indi...  1994-09-15   \n",
       "3  /en/paris-2024/results/cycling-road/women-s-in...  1992-07-07   \n",
       "4  /en/paris-2024/results/cycling-road/women-s-in...  1998-11-14   \n",
       "\n",
       "   code_athlete code_team  \n",
       "0       1903136       NaN  \n",
       "1       1923520       NaN  \n",
       "2       1903147       NaN  \n",
       "3       1940173       NaN  \n",
       "4       1912525       NaN  "
      ]
     },
     "execution_count": 4,
     "metadata": {},
     "output_type": "execute_result"
    }
   ],
   "source": [
    "medallist_df.info\n",
    "medallist_df.head()"
   ]
  },
  {
   "cell_type": "markdown",
   "id": "fe284fdf-cf80-4b2e-8193-84b929dbf875",
   "metadata": {},
   "source": [
    "## 3. Clean Data\n",
    "\n",
    "Formatted birthdays and formatted discipline names"
   ]
  },
  {
   "cell_type": "code",
   "execution_count": 5,
   "id": "31863101-86e2-49a7-8c9e-cd6e94f49bd2",
   "metadata": {
    "tags": []
   },
   "outputs": [],
   "source": [
    "# Convert birthdays to date time format\n",
    "athletes_df['birth_date'] = pd.to_datetime(athletes_df['birth_date'], format= \"%Y-%m-%d\")"
   ]
  },
  {
   "cell_type": "code",
   "execution_count": 6,
   "id": "4da4a6c0-9209-42f4-8e0b-66102a6ad364",
   "metadata": {
    "tags": []
   },
   "outputs": [],
   "source": [
    "# Fix formatting of discipline names\n",
    "athletes_df['disciplines'] = athletes_df['disciplines'].astype('string').str.replace(\"['\", \" \").str.replace(\"']\", \" \").str.strip()"
   ]
  },
  {
   "cell_type": "markdown",
   "id": "25b9bd57-e326-4623-9491-da80e0294591",
   "metadata": {},
   "source": [
    "## 4. Filter Data\n",
    "\n",
    "Select desired columns from athlete and medallist data"
   ]
  },
  {
   "cell_type": "code",
   "execution_count": 7,
   "id": "cee3223e-30f7-4d38-a9c0-78997ad39110",
   "metadata": {
    "tags": []
   },
   "outputs": [],
   "source": [
    "# Selecting columns from athlete data\n",
    "ath_select = athletes_df[['name', 'gender', 'country', 'events', 'birth_date', 'nickname', 'hobbies', 'occupation', 'philosophy', 'disciplines']].copy()"
   ]
  },
  {
   "cell_type": "code",
   "execution_count": 8,
   "id": "8adac5fd-1e5f-4314-9579-7941e33e29a8",
   "metadata": {
    "tags": []
   },
   "outputs": [],
   "source": [
    "# Select columns from medal data\n",
    "med_select = medallist_df[['medal_type', 'medal_code', 'name', 'code_athlete']].copy()"
   ]
  },
  {
   "cell_type": "markdown",
   "id": "47438d40-1cac-49d5-be9d-0b53be7ed195",
   "metadata": {},
   "source": [
    "## 6. Transform Data\n",
    "\n",
    "1. Turned birthday (YYYY-MM-DD) into day of the year\n",
    "2. Assigned horoscope based on day of the year\n",
    "3. Assigned element based on horoscope"
   ]
  },
  {
   "cell_type": "markdown",
   "id": "9eb8d8de-a401-417e-b6ae-6deeed616886",
   "metadata": {},
   "source": [
    "####  Birthday to Day of the Year"
   ]
  },
  {
   "cell_type": "code",
   "execution_count": 9,
   "id": "7e3048b5-08c5-412d-9abd-bb713cb0f7a4",
   "metadata": {
    "tags": []
   },
   "outputs": [],
   "source": [
    "# function to turn birthday into day of the year out of 365\n",
    "def day_of_year_func(df):\n",
    "    return df.timetuple().tm_yday"
   ]
  },
  {
   "cell_type": "code",
   "execution_count": 10,
   "id": "7ea8d007-b284-44ca-8e7a-d98a2ecf8fa8",
   "metadata": {
    "tags": []
   },
   "outputs": [],
   "source": [
    "# apply day of year funcion to data frame\n",
    "ath_select['day_of_year'] = ath_select['birth_date'].apply(day_of_year_func)"
   ]
  },
  {
   "cell_type": "markdown",
   "id": "4d6a4c3e-3b90-475b-a76c-6e88fd249e77",
   "metadata": {},
   "source": [
    "#### Assign Horoscope Based on Day of the Year"
   ]
  },
  {
   "cell_type": "code",
   "execution_count": 11,
   "id": "0e551e41-7f07-43d6-bd17-4fc19699ce84",
   "metadata": {
    "tags": []
   },
   "outputs": [],
   "source": [
    "# function to assign horoscope based on day of year \n",
    "def get_sign(df):\n",
    "    if ((df >= 20) & (df <=49)):\n",
    "        return 'Aquarius'\n",
    "    elif ((df >= 50) & (df <=80)):\n",
    "        return 'Pisces'\n",
    "    elif ((df >= 81) & (df <=110)):\n",
    "        return 'Aries'\n",
    "    elif ((df >= 111) & (df <=140)):\n",
    "        return 'Taurus'\n",
    "    elif ((df >= 141) & (df <=172)):\n",
    "        return 'Gemini'\n",
    "    elif ((df >= 173) & (df <=204)):\n",
    "        return 'Cancer'\n",
    "    elif ((df >= 205) & (df <=234)):\n",
    "        return 'Leo'\n",
    "    elif ((df >= 235) & (df <=265)):\n",
    "        return 'Virgo'\n",
    "    elif ((df >= 266) & (df <=295)):\n",
    "        return 'Libra'\n",
    "    elif ((df >= 296) & (df <=325)):\n",
    "        return 'Scorpio'\n",
    "    elif ((df >= 326) & (df <=356)):\n",
    "        return 'Sagittarius'\n",
    "    elif ((df >= 357) | (df <= 19)):\n",
    "        return 'Capricorn'"
   ]
  },
  {
   "cell_type": "code",
   "execution_count": 12,
   "id": "8c746973-e249-4806-a40c-8b7a8c8304a6",
   "metadata": {
    "tags": []
   },
   "outputs": [],
   "source": [
    "# applying get_sign to the data frame\n",
    "ath_select['sign'] = ath_select['day_of_year'].apply(get_sign)"
   ]
  },
  {
   "cell_type": "markdown",
   "id": "7c2effbe-9fd6-4bf0-ba18-5d8b9c4f41b2",
   "metadata": {},
   "source": [
    "#### Assign Element Based on Horoscope"
   ]
  },
  {
   "cell_type": "code",
   "execution_count": 13,
   "id": "fc91eca0-5f58-4823-81e2-c39d823c60f8",
   "metadata": {
    "tags": []
   },
   "outputs": [],
   "source": [
    "# function to find the element associated with each horoscope\n",
    "def find_element(df):\n",
    "    if ((df == 'Aries') | (df == 'Leo') | (df == 'Sagittarius')):\n",
    "        return(\"Fire\")\n",
    "        \n",
    "    elif ((df == 'Taurus') | (df == 'Virgo') | (df == 'Capricorn')):\n",
    "        return(\"Earth\")\n",
    "        \n",
    "    elif ((df == 'Gemini') | (df == 'Libra') | (df == 'Aquarius')):\n",
    "        return(\"Air\")\n",
    "        \n",
    "    elif ((df == 'Cancer') | (df == 'Scorpio') | (df == 'Pisces')):\n",
    "        return(\"Water\")"
   ]
  },
  {
   "cell_type": "code",
   "execution_count": 14,
   "id": "300ef06c-f71f-4fae-b55f-93f18728dc61",
   "metadata": {
    "tags": []
   },
   "outputs": [],
   "source": [
    "# apply find_element function to data frame\n",
    "ath_select['element'] = ath_select['sign'].apply(find_element)"
   ]
  },
  {
   "cell_type": "markdown",
   "id": "5bd2a20e-5c61-4715-9a48-1b22055cb35e",
   "metadata": {
    "tags": []
   },
   "source": [
    "#### Join Filtered Athlete Data to Medallist Data"
   ]
  },
  {
   "cell_type": "code",
   "execution_count": 15,
   "id": "e3c962e0-c405-4113-b7df-924491fa6bec",
   "metadata": {
    "tags": []
   },
   "outputs": [],
   "source": [
    "# join medallist data and athlete data\n",
    "join_df = pd.merge(ath_select, med_select, on='name', how='left')"
   ]
  },
  {
   "cell_type": "markdown",
   "id": "6ff3eab9-68e7-40fd-a80c-26270b6f2ac4",
   "metadata": {},
   "source": [
    "## 7. Group by Medal Type and Horoscope to Find Total Medal Count"
   ]
  },
  {
   "cell_type": "code",
   "execution_count": 16,
   "id": "a4d0d3e0-d1e0-484b-881b-8ff7478c4bf9",
   "metadata": {
    "tags": []
   },
   "outputs": [],
   "source": [
    "# group by sign and medal type to find count \n",
    "group_df = join_df.groupby(['sign', 'medal_type']).size().reset_index(name='count')"
   ]
  },
  {
   "cell_type": "code",
   "execution_count": 17,
   "id": "82bed237-3733-4acd-94fd-2d9aafe48c80",
   "metadata": {
    "tags": []
   },
   "outputs": [
    {
     "name": "stdout",
     "output_type": "stream",
     "text": [
      "sign\n",
      "Pisces         227\n",
      "Cancer         211\n",
      "Gemini         203\n",
      "Taurus         203\n",
      "Leo            201\n",
      "Aquarius       200\n",
      "Virgo          196\n",
      "Capricorn      191\n",
      "Aries          175\n",
      "Sagittarius    175\n",
      "Scorpio        169\n",
      "Libra          167\n",
      "Name: count, dtype: int64\n"
     ]
    }
   ],
   "source": [
    "# groupy again only by sign to find total medal count\n",
    "group_df_2 = group_df.groupby('sign')['count'].sum().sort_values(ascending=False)\n",
    "print(group_df_2)"
   ]
  },
  {
   "cell_type": "code",
   "execution_count": 18,
   "id": "b76ecebc-9e70-4790-9cc3-18aa46f5a159",
   "metadata": {
    "tags": []
   },
   "outputs": [],
   "source": [
    "# making a copy just in case\n",
    "final_df = join_df.copy()"
   ]
  },
  {
   "cell_type": "markdown",
   "id": "4047d8e7-8fb2-47de-9b6e-3bd8b2dea12b",
   "metadata": {},
   "source": [
    "## 9. Visualize Data"
   ]
  },
  {
   "cell_type": "code",
   "execution_count": 19,
   "id": "85aecf32-6a48-459e-9b27-f87c110a4e9f",
   "metadata": {
    "tags": []
   },
   "outputs": [
    {
     "name": "stdout",
     "output_type": "stream",
     "text": [
      "Figure(700x600)\n"
     ]
    },
    {
     "data": {
      "image/png": "[encoded data removed]",
      "text/plain": [
       "<Figure size 700x600 with 1 Axes>"
      ]
     },
     "metadata": {},
     "output_type": "display_data"
    }
   ],
   "source": [
    "# Plot of total athletes per horoscope colored by medal type\n",
    "sns.set(rc={'figure.figsize':(7,6)})\n",
    "sns.set_theme(style='white')\n",
    "fig_medal = plt.figure()\n",
    "medal_colors = {'Gold Medal': '#FFD700', \n",
    "                'Silver Medal': '#C0C0C0', \n",
    "                'Bronze Medal': '#CD7F32'}\n",
    "medal_order = ['Gold Medal','Silver Medal','Bronze Medal']\n",
    "sign_order= ['Aquarius' 'Aries', 'Cancer', 'Capricorn', \n",
    "             'Gemini', 'Leo', 'Libra', 'Pisces', 'Sagittarius', \n",
    "             'Scorpio', 'Taurus', 'Virgo']\n",
    "\n",
    "sns.histplot(data=final_df, x='sign', \n",
    "             hue='medal_type', multiple='stack', \n",
    "             palette=medal_colors, \n",
    "             hue_order=medal_order, \n",
    "             alpha=1).set(xlabel='Horoscope', \n",
    "                        ylabel='Count', \n",
    "                        title='Total Athletes by Horoscope Colored by Medal Type')\n",
    "plt.xticks(rotation=45, ha='right')\n",
    "print(fig_medal)"
   ]
  },
  {
   "cell_type": "code",
   "execution_count": 20,
   "id": "b532ba13-f1e9-4824-be4d-26f7f57a335e",
   "metadata": {
    "tags": []
   },
   "outputs": [
    {
     "name": "stdout",
     "output_type": "stream",
     "text": [
      "Figure(1500x827)\n"
     ]
    },
    {
     "data": {
      "image/png": "[encoded data removed]",
      "text/plain": [
       "<Figure size 1500x827 with 1 Axes>"
      ]
     },
     "metadata": {},
     "output_type": "display_data"
    }
   ],
   "source": [
    "# Total medals won by horoscope\n",
    "sns.set(rc={'figure.figsize':(15,8.27)})\n",
    "sns.set_theme(style='white')\n",
    "fig_horoscope = plt.figure()\n",
    "\n",
    "sns.barplot(data=group_df, x='sign',\n",
    "            y='count', hue='medal_type', \n",
    "            palette=medal_colors, hue_order=medal_order, \n",
    "            saturation=1).set(xlabel='Horoscope',\n",
    "                              ylabel='Count', \n",
    "                              title='Total Medals Won by Horoscope')\n",
    "plt.xticks(rotation=45, ha='right')\n",
    "print(fig_horoscope)"
   ]
  },
  {
   "cell_type": "markdown",
   "id": "1d9de48a-e1ae-44b3-88cf-abfd9b46984b",
   "metadata": {},
   "source": [
    "# BONUS!! "
   ]
  },
  {
   "cell_type": "code",
   "execution_count": 21,
   "id": "ed86275f-324f-4bdb-b30a-2d6cf845cc70",
   "metadata": {
    "tags": []
   },
   "outputs": [
    {
     "data": {
      "text/html": [
       "<img src=\"https://uploads.dailydot.com/2024/08/funniest-2024-paris-olympics-memes.jpg?q=65&auto=format&w=1600&ar=2:1&fit=crop\"/>"
      ],
      "text/plain": [
       "<IPython.core.display.Image object>"
      ]
     },
     "metadata": {},
     "output_type": "display_data"
    }
   ],
   "source": [
    "img_path = 'https://uploads.dailydot.com/2024/08/funniest-2024-paris-olympics-memes.jpg?q=65&auto=format&w=1600&ar=2:1&fit=crop'\n",
    "display(Image(url=img_path))"
   ]
  },
  {
   "cell_type": "markdown",
   "id": "f763dc57-2b80-41a6-bf68-b3f8a98a07aa",
   "metadata": {},
   "source": [
    "## Arbitrarily Assigning Sports to Elements...\n",
    "\n",
    "Water: Swimming, Diving, Sailing, Surfing, Water Polo\n",
    "\n",
    "Air: Shooting, Archery, Badminton, Trampoline, Artistic Gymnastics\n",
    "\n",
    "Earth: Sport Climbing, Judo, Weightlifting, Wrestling, Cycling Mountain Biking\n",
    "\n",
    "Fire: Basketball, Volleyball, Rugby Sevens, Football, Fencing"
   ]
  },
  {
   "cell_type": "code",
   "execution_count": 22,
   "id": "778b04af-b999-4c8b-817b-b0eb1e55f9ed",
   "metadata": {
    "tags": []
   },
   "outputs": [],
   "source": [
    "# Filtering by sport\n",
    "ath_filter = ath_select[ath_select['disciplines'].isin(['Diving', 'Sailing', 'Swimming', 'Surfing', 'Water Polo', 'Shooting', 'Archcery', 'Badminton', 'Trampoline Gymnastics', 'Artistic Gymnastics', 'Sport Climbing', 'Judo', 'Weightlifting', 'Wrestling', 'Cycling Mountain Bike', 'Basketball', 'Volleyball', 'Rugby Sevens', 'Football', 'Fencing', 'Boxing', 'Rhythmic Gymnastics', 'Breaking', 'Athletics', 'Hockey', 'Canoe Slalom', 'Canoe Sprint', 'Equestrian', 'Golf', 'Handball', 'Marathon Swimming', 'Modern Pentathlon', 'Skateboarding', 'Table Tennis', 'Taekwondo', 'Triathlon', 'Tennis'])].copy()"
   ]
  },
  {
   "cell_type": "code",
   "execution_count": 23,
   "id": "5b006f1b-5007-48c0-874a-3744089c97bc",
   "metadata": {
    "tags": []
   },
   "outputs": [],
   "source": [
    "# Create function to assign element to olympic discipline\n",
    "def find_element_sport(df):\n",
    "    if ((df == 'Basketball') | (df == 'Volleyball') | \n",
    "        (df == 'Rugby Sevens')| (df == 'Football') | \n",
    "        (df == 'Fencing') | (df == 'Hockey') | \n",
    "        (df == 'Tennis')):\n",
    "        return(\"Fire\")\n",
    "        \n",
    "    elif ((df == 'Sport Climbing') | (df == 'Judo') | \n",
    "          (df == 'Weightlifting')| (df == 'Wrestling') | \n",
    "          (df == 'Cycling Mountain Bike') | (df == 'Athletics') | \n",
    "          (df == 'Boxing') | (df == 'Taekwondo')):\n",
    "        return(\"Earth\")\n",
    "        \n",
    "    elif ((df == 'Shooting') | (df == 'Archery') | \n",
    "          (df == 'Badminton')| (df == 'Trampoline') | \n",
    "          (df == 'Artistic Gymnastics') | (df == 'Rhythmic Gymnastics') | \n",
    "          (df == 'Breaking') | (df == 'Cycling BMX Freestyle') | \n",
    "          (df == 'Handball') | (df == 'Golf') | \n",
    "          (df == 'Modern Pentathlon') | (df == 'Skateboarding') |\n",
    "          (df == 'Table Tennis') | (df == 'Triathlon')):\n",
    "        return(\"Air\")\n",
    "        \n",
    "    elif ((df == 'Swimming') | (df == 'Diving') | \n",
    "          (df == 'Sailing')| (df == 'Surfing') | \n",
    "          (df == 'Water Polo') | (df == 'Canoe Slalom') | \n",
    "          (df == 'Canoe Sprint') | (df == 'Equestrian') | \n",
    "          (df == 'Marathon Swimming')):\n",
    "        return(\"Water\")"
   ]
  },
  {
   "cell_type": "code",
   "execution_count": 24,
   "id": "dd043468-bc92-4e4f-b5db-2efbf021f6c0",
   "metadata": {
    "tags": []
   },
   "outputs": [],
   "source": [
    "# apply function to dataframe\n",
    "ath_filter['discipline_element'] = ath_filter['disciplines'].apply(find_element_sport)"
   ]
  },
  {
   "cell_type": "markdown",
   "id": "009ce734-bcbe-4e85-af4d-ead484bbb38c",
   "metadata": {},
   "source": [
    "## Plotting Arbitrary Sports Element Against Horoscope Element"
   ]
  },
  {
   "cell_type": "code",
   "execution_count": 25,
   "id": "1b01dc14-dea1-4b2d-8c3c-da3ec408a831",
   "metadata": {
    "tags": []
   },
   "outputs": [
    {
     "name": "stdout",
     "output_type": "stream",
     "text": [
      "Figure(700x500)\n"
     ]
    },
    {
     "data": {
      "image/png": "[encoded data removed]",
      "text/plain": [
       "<Figure size 700x500 with 1 Axes>"
      ]
     },
     "metadata": {},
     "output_type": "display_data"
    }
   ],
   "source": [
    "\n",
    "sns.set(rc={'figure.figsize':(7,5)})\n",
    "element_fig = plt.figure()\n",
    "element_colors = {'Earth': '#197a21', \n",
    "                'Fire': '#b40101', \n",
    "                'Water': '#2441e0', \n",
    "                 'Air': '#fff7ce'}\n",
    "sns.set_theme(style='white')\n",
    "sns.histplot(data=ath_filter, x='discipline_element', \n",
    "             hue='element', palette=element_colors, \n",
    "             alpha=1, \n",
    "             multiple='stack').set(xlabel='Arbitrary Sport Element', \n",
    "                                ylabel='Count', \n",
    "                                title='Distributation of Athlete Horoscope Element Across Arbitrary Sport Element')\n",
    "print(element_fig)"
   ]
  },
  {
   "cell_type": "code",
   "execution_count": null,
   "id": "0de966d1-3c1b-4a9b-aaa7-aa105beebeed",
   "metadata": {},
   "outputs": [],
   "source": []
  }
 ],
 "metadata": {
  "kernelspec": {
   "display_name": "Python 3.10.0",
   "language": "python",
   "name": "python3.10.0"
  },
  "language_info": {
   "codemirror_mode": {
    "name": "ipython",
    "version": 3
   },
   "file_extension": ".py",
   "mimetype": "text/x-python",
   "name": "python",
   "nbconvert_exporter": "python",
   "pygments_lexer": "ipython3",
   "version": "3.10.0"
  }
 },
 "nbformat": 4,
 "nbformat_minor": 5
}
