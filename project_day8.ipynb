{
 "cells": [
  {
   "cell_type": "markdown",
   "id": "4c6c2ce1-61e3-4f62-bf7f-6ac5abd95b7b",
   "metadata": {},
   "source": [
    "# Summer 2024 Paris Olympics Exploration\n",
    "\n",
    "[Data](https://www.kaggle.com/datasets/muhammadehsan02/olympic-summer-games-paris-2024?resource=download)\n",
    "\n",
    "### Setup"
   ]
  },
  {
   "cell_type": "code",
   "execution_count": 1,
   "id": "77cb57b8-f6c3-4d11-bfe4-a3aab3d45ddf",
   "metadata": {
    "tags": []
   },
   "outputs": [],
   "source": [
    "import pandas as pd\n",
    "import numpy as np\n",
    "import seaborn as sns\n",
    "import matplotlib.pyplot as plt"
   ]
  },
  {
   "cell_type": "markdown",
   "id": "8895e431-a2b0-429c-a804-8eefb88d321b",
   "metadata": {},
   "source": [
    "## 1. Import Data"
   ]
  },
  {
   "cell_type": "code",
   "execution_count": 84,
   "id": "bc17de45-340b-42ad-b95b-8075778aee0d",
   "metadata": {
    "tags": []
   },
   "outputs": [],
   "source": [
    "athletes_df = pd.read_csv(\"~/MEDS/EDS-217/eds217-project/raw_data/athletes.csv\")\n",
    "medallist_df = pd.read_csv(\"~/MEDS/EDS-217/eds217-project/raw_data/medallists.csv\")"
   ]
  },
  {
   "cell_type": "markdown",
   "id": "e540a3e5-f942-4bb4-a8e3-01fe709cf43d",
   "metadata": {},
   "source": [
    "## 2. Explore Data"
   ]
  },
  {
   "cell_type": "code",
   "execution_count": 85,
   "id": "f20e1561-db69-496d-b3d6-db48e1afc06e",
   "metadata": {
    "tags": []
   },
   "outputs": [
    {
     "data": {
      "text/html": [
       "<div>\n",
       "<style scoped>\n",
       "    .dataframe tbody tr th:only-of-type {\n",
       "        vertical-align: middle;\n",
       "    }\n",
       "\n",
       "    .dataframe tbody tr th {\n",
       "        vertical-align: top;\n",
       "    }\n",
       "\n",
       "    .dataframe thead th {\n",
       "        text-align: right;\n",
       "    }\n",
       "</style>\n",
       "<table border=\"1\" class=\"dataframe\">\n",
       "  <thead>\n",
       "    <tr style=\"text-align: right;\">\n",
       "      <th></th>\n",
       "      <th>code</th>\n",
       "      <th>name</th>\n",
       "      <th>name_short</th>\n",
       "      <th>name_tv</th>\n",
       "      <th>gender</th>\n",
       "      <th>function</th>\n",
       "      <th>country_code</th>\n",
       "      <th>country</th>\n",
       "      <th>country_long</th>\n",
       "      <th>nationality</th>\n",
       "      <th>...</th>\n",
       "      <th>family</th>\n",
       "      <th>lang</th>\n",
       "      <th>coach</th>\n",
       "      <th>reason</th>\n",
       "      <th>hero</th>\n",
       "      <th>influence</th>\n",
       "      <th>philosophy</th>\n",
       "      <th>sporting_relatives</th>\n",
       "      <th>ritual</th>\n",
       "      <th>other_sports</th>\n",
       "    </tr>\n",
       "  </thead>\n",
       "  <tbody>\n",
       "    <tr>\n",
       "      <th>0</th>\n",
       "      <td>1532872</td>\n",
       "      <td>ALEKSANYAN Artur</td>\n",
       "      <td>ALEKSANYAN A</td>\n",
       "      <td>Artur ALEKSANYAN</td>\n",
       "      <td>Male</td>\n",
       "      <td>Athlete</td>\n",
       "      <td>ARM</td>\n",
       "      <td>Armenia</td>\n",
       "      <td>Armenia</td>\n",
       "      <td>Armenia</td>\n",
       "      <td>...</td>\n",
       "      <td>Father, Gevorg Aleksanyan</td>\n",
       "      <td>Armenian, English, Russian</td>\n",
       "      <td>Gevorg Aleksanyan (ARM), father</td>\n",
       "      <td>He followed his father and his uncle into the ...</td>\n",
       "      <td>Footballer Zinedine Zidane (FRA), World Cup wi...</td>\n",
       "      <td>His father, Gevorg Aleksanyan</td>\n",
       "      <td>\"Wrestling is my life.\" (mediamax.am. 18 May 2...</td>\n",
       "      <td>NaN</td>\n",
       "      <td>NaN</td>\n",
       "      <td>NaN</td>\n",
       "    </tr>\n",
       "    <tr>\n",
       "      <th>1</th>\n",
       "      <td>1532873</td>\n",
       "      <td>AMOYAN Malkhas</td>\n",
       "      <td>AMOYAN M</td>\n",
       "      <td>Malkhas AMOYAN</td>\n",
       "      <td>Male</td>\n",
       "      <td>Athlete</td>\n",
       "      <td>ARM</td>\n",
       "      <td>Armenia</td>\n",
       "      <td>Armenia</td>\n",
       "      <td>Armenia</td>\n",
       "      <td>...</td>\n",
       "      <td>NaN</td>\n",
       "      <td>Armenian</td>\n",
       "      <td>NaN</td>\n",
       "      <td>NaN</td>\n",
       "      <td>NaN</td>\n",
       "      <td>NaN</td>\n",
       "      <td>\"To become a good athlete, you first have to b...</td>\n",
       "      <td>Uncle, Roman Amoyan (wrestling), 2008 Olympic ...</td>\n",
       "      <td>NaN</td>\n",
       "      <td>NaN</td>\n",
       "    </tr>\n",
       "    <tr>\n",
       "      <th>2</th>\n",
       "      <td>1532874</td>\n",
       "      <td>GALSTYAN Slavik</td>\n",
       "      <td>GALSTYAN S</td>\n",
       "      <td>Slavik GALSTYAN</td>\n",
       "      <td>Male</td>\n",
       "      <td>Athlete</td>\n",
       "      <td>ARM</td>\n",
       "      <td>Armenia</td>\n",
       "      <td>Armenia</td>\n",
       "      <td>Armenia</td>\n",
       "      <td>...</td>\n",
       "      <td>NaN</td>\n",
       "      <td>Armenian</td>\n",
       "      <td>Personal: Martin Alekhanyan (ARM).&lt;br&gt;National...</td>\n",
       "      <td>NaN</td>\n",
       "      <td>NaN</td>\n",
       "      <td>NaN</td>\n",
       "      <td>NaN</td>\n",
       "      <td>NaN</td>\n",
       "      <td>NaN</td>\n",
       "      <td>NaN</td>\n",
       "    </tr>\n",
       "    <tr>\n",
       "      <th>3</th>\n",
       "      <td>1532944</td>\n",
       "      <td>HARUTYUNYAN Arsen</td>\n",
       "      <td>HARUTYUNYAN A</td>\n",
       "      <td>Arsen HARUTYUNYAN</td>\n",
       "      <td>Male</td>\n",
       "      <td>Athlete</td>\n",
       "      <td>ARM</td>\n",
       "      <td>Armenia</td>\n",
       "      <td>Armenia</td>\n",
       "      <td>Armenia</td>\n",
       "      <td>...</td>\n",
       "      <td>Wife, Diana (married October 2022). Daughter, ...</td>\n",
       "      <td>Armenian</td>\n",
       "      <td>National: Habetnak Kurghinyan</td>\n",
       "      <td>While doing karate he noticed wrestlers traini...</td>\n",
       "      <td>Wrestler Armen Nazaryan (ARM, BUL), two-time O...</td>\n",
       "      <td>NaN</td>\n",
       "      <td>“Nothing is impossible, set goals in front of ...</td>\n",
       "      <td>NaN</td>\n",
       "      <td>NaN</td>\n",
       "      <td>NaN</td>\n",
       "    </tr>\n",
       "    <tr>\n",
       "      <th>4</th>\n",
       "      <td>1532945</td>\n",
       "      <td>TEVANYAN Vazgen</td>\n",
       "      <td>TEVANYAN V</td>\n",
       "      <td>Vazgen TEVANYAN</td>\n",
       "      <td>Male</td>\n",
       "      <td>Athlete</td>\n",
       "      <td>ARM</td>\n",
       "      <td>Armenia</td>\n",
       "      <td>Armenia</td>\n",
       "      <td>Armenia</td>\n",
       "      <td>...</td>\n",
       "      <td>Wife, Sona (married November 2023)</td>\n",
       "      <td>Armenian, Russian</td>\n",
       "      <td>National: Habetnak Kurghinyan (ARM)</td>\n",
       "      <td>“My family did not like wrestling very much. A...</td>\n",
       "      <td>NaN</td>\n",
       "      <td>NaN</td>\n",
       "      <td>NaN</td>\n",
       "      <td>NaN</td>\n",
       "      <td>NaN</td>\n",
       "      <td>NaN</td>\n",
       "    </tr>\n",
       "  </tbody>\n",
       "</table>\n",
       "<p>5 rows × 35 columns</p>\n",
       "</div>"
      ],
      "text/plain": [
       "      code               name     name_short            name_tv gender  \\\n",
       "0  1532872   ALEKSANYAN Artur   ALEKSANYAN A   Artur ALEKSANYAN   Male   \n",
       "1  1532873     AMOYAN Malkhas       AMOYAN M     Malkhas AMOYAN   Male   \n",
       "2  1532874    GALSTYAN Slavik     GALSTYAN S    Slavik GALSTYAN   Male   \n",
       "3  1532944  HARUTYUNYAN Arsen  HARUTYUNYAN A  Arsen HARUTYUNYAN   Male   \n",
       "4  1532945    TEVANYAN Vazgen     TEVANYAN V    Vazgen TEVANYAN   Male   \n",
       "\n",
       "  function country_code  country country_long nationality  ...  \\\n",
       "0  Athlete          ARM  Armenia      Armenia     Armenia  ...   \n",
       "1  Athlete          ARM  Armenia      Armenia     Armenia  ...   \n",
       "2  Athlete          ARM  Armenia      Armenia     Armenia  ...   \n",
       "3  Athlete          ARM  Armenia      Armenia     Armenia  ...   \n",
       "4  Athlete          ARM  Armenia      Armenia     Armenia  ...   \n",
       "\n",
       "                                              family  \\\n",
       "0                          Father, Gevorg Aleksanyan   \n",
       "1                                                NaN   \n",
       "2                                                NaN   \n",
       "3  Wife, Diana (married October 2022). Daughter, ...   \n",
       "4                 Wife, Sona (married November 2023)   \n",
       "\n",
       "                         lang  \\\n",
       "0  Armenian, English, Russian   \n",
       "1                    Armenian   \n",
       "2                    Armenian   \n",
       "3                    Armenian   \n",
       "4           Armenian, Russian   \n",
       "\n",
       "                                               coach  \\\n",
       "0                    Gevorg Aleksanyan (ARM), father   \n",
       "1                                                NaN   \n",
       "2  Personal: Martin Alekhanyan (ARM).<br>National...   \n",
       "3                      National: Habetnak Kurghinyan   \n",
       "4                National: Habetnak Kurghinyan (ARM)   \n",
       "\n",
       "                                              reason  \\\n",
       "0  He followed his father and his uncle into the ...   \n",
       "1                                                NaN   \n",
       "2                                                NaN   \n",
       "3  While doing karate he noticed wrestlers traini...   \n",
       "4  “My family did not like wrestling very much. A...   \n",
       "\n",
       "                                                hero  \\\n",
       "0  Footballer Zinedine Zidane (FRA), World Cup wi...   \n",
       "1                                                NaN   \n",
       "2                                                NaN   \n",
       "3  Wrestler Armen Nazaryan (ARM, BUL), two-time O...   \n",
       "4                                                NaN   \n",
       "\n",
       "                       influence  \\\n",
       "0  His father, Gevorg Aleksanyan   \n",
       "1                            NaN   \n",
       "2                            NaN   \n",
       "3                            NaN   \n",
       "4                            NaN   \n",
       "\n",
       "                                          philosophy  \\\n",
       "0  \"Wrestling is my life.\" (mediamax.am. 18 May 2...   \n",
       "1  \"To become a good athlete, you first have to b...   \n",
       "2                                                NaN   \n",
       "3  “Nothing is impossible, set goals in front of ...   \n",
       "4                                                NaN   \n",
       "\n",
       "                                  sporting_relatives ritual other_sports  \n",
       "0                                                NaN    NaN          NaN  \n",
       "1  Uncle, Roman Amoyan (wrestling), 2008 Olympic ...    NaN          NaN  \n",
       "2                                                NaN    NaN          NaN  \n",
       "3                                                NaN    NaN          NaN  \n",
       "4                                                NaN    NaN          NaN  \n",
       "\n",
       "[5 rows x 35 columns]"
      ]
     },
     "execution_count": 85,
     "metadata": {},
     "output_type": "execute_result"
    }
   ],
   "source": [
    "athletes_df.info\n",
    "athletes_df.head()"
   ]
  },
  {
   "cell_type": "code",
   "execution_count": 40,
   "id": "708418f3-3e70-4b48-9302-f4ba9af41e4a",
   "metadata": {
    "tags": []
   },
   "outputs": [
    {
     "data": {
      "text/html": [
       "<div>\n",
       "<style scoped>\n",
       "    .dataframe tbody tr th:only-of-type {\n",
       "        vertical-align: middle;\n",
       "    }\n",
       "\n",
       "    .dataframe tbody tr th {\n",
       "        vertical-align: top;\n",
       "    }\n",
       "\n",
       "    .dataframe thead th {\n",
       "        text-align: right;\n",
       "    }\n",
       "</style>\n",
       "<table border=\"1\" class=\"dataframe\">\n",
       "  <thead>\n",
       "    <tr style=\"text-align: right;\">\n",
       "      <th></th>\n",
       "      <th>medal_date</th>\n",
       "      <th>medal_type</th>\n",
       "      <th>medal_code</th>\n",
       "      <th>name</th>\n",
       "      <th>gender</th>\n",
       "      <th>country_code</th>\n",
       "      <th>country</th>\n",
       "      <th>country_long</th>\n",
       "      <th>nationality</th>\n",
       "      <th>team</th>\n",
       "      <th>team_gender</th>\n",
       "      <th>discipline</th>\n",
       "      <th>event</th>\n",
       "      <th>event_type</th>\n",
       "      <th>url_event</th>\n",
       "      <th>birth_date</th>\n",
       "      <th>code_athlete</th>\n",
       "      <th>code_team</th>\n",
       "    </tr>\n",
       "  </thead>\n",
       "  <tbody>\n",
       "    <tr>\n",
       "      <th>0</th>\n",
       "      <td>2024-07-27</td>\n",
       "      <td>Gold Medal</td>\n",
       "      <td>1.0</td>\n",
       "      <td>EVENEPOEL Remco</td>\n",
       "      <td>Male</td>\n",
       "      <td>BEL</td>\n",
       "      <td>Belgium</td>\n",
       "      <td>Belgium</td>\n",
       "      <td>Belgium</td>\n",
       "      <td>NaN</td>\n",
       "      <td>NaN</td>\n",
       "      <td>Cycling Road</td>\n",
       "      <td>Men's Individual Time Trial</td>\n",
       "      <td>ATH</td>\n",
       "      <td>/en/paris-2024/results/cycling-road/men-s-indi...</td>\n",
       "      <td>2000-01-25</td>\n",
       "      <td>1903136</td>\n",
       "      <td>NaN</td>\n",
       "    </tr>\n",
       "    <tr>\n",
       "      <th>1</th>\n",
       "      <td>2024-07-27</td>\n",
       "      <td>Silver Medal</td>\n",
       "      <td>2.0</td>\n",
       "      <td>GANNA Filippo</td>\n",
       "      <td>Male</td>\n",
       "      <td>ITA</td>\n",
       "      <td>Italy</td>\n",
       "      <td>Italy</td>\n",
       "      <td>Italy</td>\n",
       "      <td>NaN</td>\n",
       "      <td>NaN</td>\n",
       "      <td>Cycling Road</td>\n",
       "      <td>Men's Individual Time Trial</td>\n",
       "      <td>ATH</td>\n",
       "      <td>/en/paris-2024/results/cycling-road/men-s-indi...</td>\n",
       "      <td>1996-07-25</td>\n",
       "      <td>1923520</td>\n",
       "      <td>NaN</td>\n",
       "    </tr>\n",
       "    <tr>\n",
       "      <th>2</th>\n",
       "      <td>2024-07-27</td>\n",
       "      <td>Bronze Medal</td>\n",
       "      <td>3.0</td>\n",
       "      <td>van AERT Wout</td>\n",
       "      <td>Male</td>\n",
       "      <td>BEL</td>\n",
       "      <td>Belgium</td>\n",
       "      <td>Belgium</td>\n",
       "      <td>Belgium</td>\n",
       "      <td>NaN</td>\n",
       "      <td>NaN</td>\n",
       "      <td>Cycling Road</td>\n",
       "      <td>Men's Individual Time Trial</td>\n",
       "      <td>ATH</td>\n",
       "      <td>/en/paris-2024/results/cycling-road/men-s-indi...</td>\n",
       "      <td>1994-09-15</td>\n",
       "      <td>1903147</td>\n",
       "      <td>NaN</td>\n",
       "    </tr>\n",
       "    <tr>\n",
       "      <th>3</th>\n",
       "      <td>2024-07-27</td>\n",
       "      <td>Gold Medal</td>\n",
       "      <td>1.0</td>\n",
       "      <td>BROWN Grace</td>\n",
       "      <td>Female</td>\n",
       "      <td>AUS</td>\n",
       "      <td>Australia</td>\n",
       "      <td>Australia</td>\n",
       "      <td>Australia</td>\n",
       "      <td>NaN</td>\n",
       "      <td>NaN</td>\n",
       "      <td>Cycling Road</td>\n",
       "      <td>Women's Individual Time Trial</td>\n",
       "      <td>ATH</td>\n",
       "      <td>/en/paris-2024/results/cycling-road/women-s-in...</td>\n",
       "      <td>1992-07-07</td>\n",
       "      <td>1940173</td>\n",
       "      <td>NaN</td>\n",
       "    </tr>\n",
       "    <tr>\n",
       "      <th>4</th>\n",
       "      <td>2024-07-27</td>\n",
       "      <td>Silver Medal</td>\n",
       "      <td>2.0</td>\n",
       "      <td>HENDERSON Anna</td>\n",
       "      <td>Female</td>\n",
       "      <td>GBR</td>\n",
       "      <td>Great Britain</td>\n",
       "      <td>Great Britain</td>\n",
       "      <td>Great Britain</td>\n",
       "      <td>NaN</td>\n",
       "      <td>NaN</td>\n",
       "      <td>Cycling Road</td>\n",
       "      <td>Women's Individual Time Trial</td>\n",
       "      <td>ATH</td>\n",
       "      <td>/en/paris-2024/results/cycling-road/women-s-in...</td>\n",
       "      <td>1998-11-14</td>\n",
       "      <td>1912525</td>\n",
       "      <td>NaN</td>\n",
       "    </tr>\n",
       "  </tbody>\n",
       "</table>\n",
       "</div>"
      ],
      "text/plain": [
       "   medal_date    medal_type  medal_code             name  gender country_code  \\\n",
       "0  2024-07-27    Gold Medal         1.0  EVENEPOEL Remco    Male          BEL   \n",
       "1  2024-07-27  Silver Medal         2.0    GANNA Filippo    Male          ITA   \n",
       "2  2024-07-27  Bronze Medal         3.0    van AERT Wout    Male          BEL   \n",
       "3  2024-07-27    Gold Medal         1.0      BROWN Grace  Female          AUS   \n",
       "4  2024-07-27  Silver Medal         2.0   HENDERSON Anna  Female          GBR   \n",
       "\n",
       "         country   country_long    nationality team team_gender    discipline  \\\n",
       "0        Belgium        Belgium        Belgium  NaN         NaN  Cycling Road   \n",
       "1          Italy          Italy          Italy  NaN         NaN  Cycling Road   \n",
       "2        Belgium        Belgium        Belgium  NaN         NaN  Cycling Road   \n",
       "3      Australia      Australia      Australia  NaN         NaN  Cycling Road   \n",
       "4  Great Britain  Great Britain  Great Britain  NaN         NaN  Cycling Road   \n",
       "\n",
       "                           event event_type  \\\n",
       "0    Men's Individual Time Trial        ATH   \n",
       "1    Men's Individual Time Trial        ATH   \n",
       "2    Men's Individual Time Trial        ATH   \n",
       "3  Women's Individual Time Trial        ATH   \n",
       "4  Women's Individual Time Trial        ATH   \n",
       "\n",
       "                                           url_event  birth_date  \\\n",
       "0  /en/paris-2024/results/cycling-road/men-s-indi...  2000-01-25   \n",
       "1  /en/paris-2024/results/cycling-road/men-s-indi...  1996-07-25   \n",
       "2  /en/paris-2024/results/cycling-road/men-s-indi...  1994-09-15   \n",
       "3  /en/paris-2024/results/cycling-road/women-s-in...  1992-07-07   \n",
       "4  /en/paris-2024/results/cycling-road/women-s-in...  1998-11-14   \n",
       "\n",
       "   code_athlete code_team  \n",
       "0       1903136       NaN  \n",
       "1       1923520       NaN  \n",
       "2       1903147       NaN  \n",
       "3       1940173       NaN  \n",
       "4       1912525       NaN  "
      ]
     },
     "execution_count": 40,
     "metadata": {},
     "output_type": "execute_result"
    }
   ],
   "source": [
    "medallist_df.info\n",
    "medallist_df.head()"
   ]
  },
  {
   "cell_type": "markdown",
   "id": "fe284fdf-cf80-4b2e-8193-84b929dbf875",
   "metadata": {},
   "source": [
    "## 3. Clean Data\n",
    "\n",
    "Formatted birthdays and formatted discipline names"
   ]
  },
  {
   "cell_type": "code",
   "execution_count": 86,
   "id": "31863101-86e2-49a7-8c9e-cd6e94f49bd2",
   "metadata": {
    "tags": []
   },
   "outputs": [],
   "source": [
    "athletes_df['birth_date'] = pd.to_datetime(athletes_df['birth_date'], format= \"%Y-%m-%d\")\n",
    "athletes_df['disciplines'] = athletes_df['disciplines'].astype('string')"
   ]
  },
  {
   "cell_type": "code",
   "execution_count": 87,
   "id": "4da4a6c0-9209-42f4-8e0b-66102a6ad364",
   "metadata": {
    "tags": []
   },
   "outputs": [],
   "source": [
    "# Fixing formatting\n",
    "athletes_df['disciplines'] = athletes_df['disciplines'].str.replace(\"['\", \" \").str.replace(\"']\", \" \").str.strip()"
   ]
  },
  {
   "cell_type": "markdown",
   "id": "25b9bd57-e326-4623-9491-da80e0294591",
   "metadata": {},
   "source": [
    "## 4. Filter Data\n",
    "\n",
    "Select desired columns, filter discipline to desired sports\n",
    "\n",
    "Select desired columns from medallist data"
   ]
  },
  {
   "cell_type": "code",
   "execution_count": 88,
   "id": "cee3223e-30f7-4d38-a9c0-78997ad39110",
   "metadata": {
    "tags": []
   },
   "outputs": [],
   "source": [
    "# Selecting columns\n",
    "ath_filter = athletes_df[['name', 'gender', 'country', 'events', 'birth_date', 'nickname', 'hobbies', 'occupation', 'philosophy', 'disciplines']].copy()"
   ]
  },
  {
   "cell_type": "code",
   "execution_count": 7,
   "id": "7d1677c1-574e-4996-bdab-dbd65d50cff2",
   "metadata": {
    "tags": []
   },
   "outputs": [],
   "source": [
    "# Filtering by sport\n",
    "# ath_filter = ath_select[ath_select['disciplines'].isin(['Diving', 'Sailing', 'Swimming', 'Surfing', 'Water Polo', 'Shooting', 'Archcery', 'Badminton', 'Trampoline Gymnastics', 'Artistic Gymnastics', 'Sport Climbing', 'Judo', 'Weightlifting', 'Wrestling', 'Cycling Mountain Bike', 'Basketball', 'Volleyball', 'Rugby Sevens', 'Football', 'Fencing'])].copy()"
   ]
  },
  {
   "cell_type": "code",
   "execution_count": 89,
   "id": "8adac5fd-1e5f-4314-9579-7941e33e29a8",
   "metadata": {
    "tags": []
   },
   "outputs": [],
   "source": [
    "# Select columns from medal data\n",
    "med_select = medallist_df[['medal_type', 'medal_code', 'name', 'code_athlete']].copy()"
   ]
  },
  {
   "cell_type": "markdown",
   "id": "47438d40-1cac-49d5-be9d-0b53be7ed195",
   "metadata": {},
   "source": [
    "## 6. Transform Data\n",
    "\n",
    "1. Turned birthday (YYYY-MM-DD) into day of the year\n",
    "2. Assigned horoscope based on day of the year\n",
    "3. Assigned element based on horoscope\n",
    "4. Arbitrarily assigned discipline element based on discipline\n",
    "5. Checked if horoscope element matched discipline element"
   ]
  },
  {
   "cell_type": "markdown",
   "id": "9eb8d8de-a401-417e-b6ae-6deeed616886",
   "metadata": {},
   "source": [
    "### 1. Birthday to Day of the Year"
   ]
  },
  {
   "cell_type": "code",
   "execution_count": 82,
   "id": "7e3048b5-08c5-412d-9abd-bb713cb0f7a4",
   "metadata": {
    "tags": []
   },
   "outputs": [],
   "source": [
    "def day_of_year_func(df):\n",
    "    return df.timetuple().tm_yday"
   ]
  },
  {
   "cell_type": "code",
   "execution_count": 90,
   "id": "7ea8d007-b284-44ca-8e7a-d98a2ecf8fa8",
   "metadata": {
    "tags": []
   },
   "outputs": [],
   "source": [
    "ath_filter['day_of_year'] = ath_filter['birth_date'].apply(day_of_year_func)"
   ]
  },
  {
   "cell_type": "markdown",
   "id": "4d6a4c3e-3b90-475b-a76c-6e88fd249e77",
   "metadata": {},
   "source": [
    "### 2. Assign Horoscope Based on Day of the Year"
   ]
  },
  {
   "cell_type": "code",
   "execution_count": 158,
   "id": "0e551e41-7f07-43d6-bd17-4fc19699ce84",
   "metadata": {
    "tags": []
   },
   "outputs": [],
   "source": [
    "# function to assign horoscope based on day of year REAL\n",
    "def get_sign(df):\n",
    "    if ((df >= 20) & (df <=49)):\n",
    "        return 'Aquarius'\n",
    "    elif ((df >= 50) & (df <=80)):\n",
    "        return 'Pisces'\n",
    "    elif ((df >= 81) & (df <=110)):\n",
    "        return 'Aries'\n",
    "    elif ((df >= 111) & (df <=140)):\n",
    "        return 'Taurus'\n",
    "    elif ((df >= 141) & (df <=172)):\n",
    "        return 'Gemini'\n",
    "    elif ((df >= 173) & (df <=204)):\n",
    "        return 'Cancer'\n",
    "    elif ((df >= 205) & (df <=234)):\n",
    "        return 'Leo'\n",
    "    elif ((df >= 235) & (df <=265)):\n",
    "        return 'Virgo'\n",
    "    elif ((df >= 266) & (df <=295)):\n",
    "        return 'Libra'\n",
    "    elif ((df >= 296) & (df <=325)):\n",
    "        return 'Scorpio'\n",
    "    elif ((df >= 326) & (df <=356)):\n",
    "        return 'Sagittarius'\n",
    "    elif ((df >= 357) | (df <= 19)):\n",
    "        return 'Capricorn'"
   ]
  },
  {
   "cell_type": "code",
   "execution_count": 146,
   "id": "8c746973-e249-4806-a40c-8b7a8c8304a6",
   "metadata": {
    "tags": []
   },
   "outputs": [],
   "source": [
    "# applying get_sign to the data frame\n",
    "ath_filter['sign'] = ath_filter['day_of_year'].apply(get_sign)"
   ]
  },
  {
   "cell_type": "markdown",
   "id": "7c2effbe-9fd6-4bf0-ba18-5d8b9c4f41b2",
   "metadata": {},
   "source": [
    "### 3. Assign Element Based on Horoscope"
   ]
  },
  {
   "cell_type": "code",
   "execution_count": 147,
   "id": "fc91eca0-5f58-4823-81e2-c39d823c60f8",
   "metadata": {
    "tags": []
   },
   "outputs": [],
   "source": [
    "def find_element(df):\n",
    "    if ((df == 'Aries') | (df == 'Leo') | (df == 'Sagittarius')):\n",
    "        return(\"Fire\")\n",
    "        \n",
    "    elif ((df == 'Taurus') | (df == 'Virgo') | (df == 'Capricorn')):\n",
    "        return(\"Earth\")\n",
    "        \n",
    "    elif ((df == 'Gemini') | (df == 'Libra') | (df == 'Aquarius')):\n",
    "        return(\"Air\")\n",
    "        \n",
    "    elif ((df == 'Cancer') | (df == 'Scorpio') | (df == 'Pisces')):\n",
    "        return(\"Water\")"
   ]
  },
  {
   "cell_type": "code",
   "execution_count": 148,
   "id": "300ef06c-f71f-4fae-b55f-93f18728dc61",
   "metadata": {
    "tags": []
   },
   "outputs": [],
   "source": [
    "# apply find_element function to data frame\n",
    "ath_filter['element'] = ath_filter['sign'].apply(find_element)"
   ]
  },
  {
   "cell_type": "markdown",
   "id": "f763dc57-2b80-41a6-bf68-b3f8a98a07aa",
   "metadata": {},
   "source": [
    "### 4. Arbitrarily Assigning Sports to Elements"
   ]
  },
  {
   "cell_type": "code",
   "execution_count": 115,
   "id": "91cdc3b7-ae7f-4545-946f-530268b59763",
   "metadata": {
    "tags": []
   },
   "outputs": [],
   "source": [
    "# Create function to assign element to olympic discipline\n",
    "def find_element_sport(df):\n",
    "    if ((df == 'Basketball') | (df == 'Volleyball') | (df == 'Rugby Sevens')| (df == 'Football') | (df == 'Fencing')):\n",
    "        return(\"Fire\")\n",
    "        \n",
    "    elif ((df == 'Sport Climbing') | (df == 'Judo') | (df == 'Weightlifting')| (df == 'Wrestling') | (df == 'Cycling Mountain Bike')):\n",
    "        return(\"Earth\")\n",
    "        \n",
    "    elif ((df == 'Shooting') | (df == 'Archery') | (df == 'Badminton')| (df == 'Trampoline') | (df == 'Artistic Gymnastics')):\n",
    "        return(\"Air\")\n",
    "        \n",
    "    elif ((df == 'Swimming') | (df == 'Diving') | (df == 'Sailing')| (df == 'Surfing') | (df == 'Water Polo')):\n",
    "        return(\"Water\")"
   ]
  },
  {
   "cell_type": "code",
   "execution_count": 116,
   "id": "899cccbd-0092-41b3-83a3-fe052be03e80",
   "metadata": {
    "tags": []
   },
   "outputs": [],
   "source": [
    "# apply function to dataframe\n",
    "ath_filter['discipline_element'] = ath_filter['disciplines'].apply(find_element_sport)"
   ]
  },
  {
   "cell_type": "markdown",
   "id": "96ebb7ed-45b2-4ea7-8cb8-47147e960107",
   "metadata": {
    "tags": []
   },
   "source": [
    "### 5. Does Horoscope Element Match Arbitrary Discipline Element?"
   ]
  },
  {
   "cell_type": "code",
   "execution_count": 125,
   "id": "1b98bd73-157d-4d31-8ec4-09eb8058b30a",
   "metadata": {
    "tags": []
   },
   "outputs": [],
   "source": [
    "def element_match_func(col1, col2):\n",
    "    if col1 == col2:\n",
    "        return \"Yes\"\n",
    "    else:\n",
    "        return \"No\""
   ]
  },
  {
   "cell_type": "code",
   "execution_count": 149,
   "id": "37d822de-26d1-4641-9f3b-8e6064035331",
   "metadata": {
    "tags": []
   },
   "outputs": [],
   "source": [
    "ath_filter['match'] = ath_filter['element'] == ath_filter['discipline_element']"
   ]
  },
  {
   "cell_type": "markdown",
   "id": "5bd2a20e-5c61-4715-9a48-1b22055cb35e",
   "metadata": {
    "tags": []
   },
   "source": [
    "### 6. Join Filtered Athlete Data to Medallist Data"
   ]
  },
  {
   "cell_type": "code",
   "execution_count": 150,
   "id": "e3c962e0-c405-4113-b7df-924491fa6bec",
   "metadata": {
    "tags": []
   },
   "outputs": [],
   "source": [
    "join_df = pd.merge(ath_filter, med_select, on='name', how='left')"
   ]
  },
  {
   "cell_type": "code",
   "execution_count": 151,
   "id": "b76ecebc-9e70-4790-9cc3-18aa46f5a159",
   "metadata": {
    "tags": []
   },
   "outputs": [
    {
     "data": {
      "text/plain": [
       "(11374, 18)"
      ]
     },
     "execution_count": 151,
     "metadata": {},
     "output_type": "execute_result"
    }
   ],
   "source": [
    "final_df = join_df.copy()\n",
    "final_df.shape"
   ]
  },
  {
   "cell_type": "code",
   "execution_count": 152,
   "id": "2f8d6557-d2c8-421c-918d-3ef7c7c45e64",
   "metadata": {
    "tags": []
   },
   "outputs": [],
   "source": [
    "final_test = final_df.dropna()"
   ]
  },
  {
   "cell_type": "markdown",
   "id": "8d3deee8-b109-43b7-bf4b-374463a15d57",
   "metadata": {},
   "source": [
    "## 7. Group Data"
   ]
  },
  {
   "cell_type": "code",
   "execution_count": 135,
   "id": "5472de36-87c5-401a-a19b-27a27378cd0e",
   "metadata": {
    "tags": []
   },
   "outputs": [
    {
     "data": {
      "text/html": [
       "<div>\n",
       "<style scoped>\n",
       "    .dataframe tbody tr th:only-of-type {\n",
       "        vertical-align: middle;\n",
       "    }\n",
       "\n",
       "    .dataframe tbody tr th {\n",
       "        vertical-align: top;\n",
       "    }\n",
       "\n",
       "    .dataframe thead th {\n",
       "        text-align: right;\n",
       "    }\n",
       "</style>\n",
       "<table border=\"1\" class=\"dataframe\">\n",
       "  <thead>\n",
       "    <tr style=\"text-align: right;\">\n",
       "      <th></th>\n",
       "      <th>name</th>\n",
       "      <th>gender</th>\n",
       "      <th>events</th>\n",
       "      <th>birth_date</th>\n",
       "      <th>nickname</th>\n",
       "      <th>hobbies</th>\n",
       "      <th>occupation</th>\n",
       "      <th>philosophy</th>\n",
       "      <th>disciplines</th>\n",
       "      <th>day_of_year</th>\n",
       "      <th>sign</th>\n",
       "      <th>element</th>\n",
       "      <th>discipline_element</th>\n",
       "      <th>match</th>\n",
       "      <th>medal_type</th>\n",
       "      <th>medal_code</th>\n",
       "      <th>code_athlete</th>\n",
       "    </tr>\n",
       "    <tr>\n",
       "      <th>country</th>\n",
       "      <th></th>\n",
       "      <th></th>\n",
       "      <th></th>\n",
       "      <th></th>\n",
       "      <th></th>\n",
       "      <th></th>\n",
       "      <th></th>\n",
       "      <th></th>\n",
       "      <th></th>\n",
       "      <th></th>\n",
       "      <th></th>\n",
       "      <th></th>\n",
       "      <th></th>\n",
       "      <th></th>\n",
       "      <th></th>\n",
       "      <th></th>\n",
       "      <th></th>\n",
       "    </tr>\n",
       "  </thead>\n",
       "  <tbody>\n",
       "    <tr>\n",
       "      <th>Nauru</th>\n",
       "      <td>1</td>\n",
       "      <td>1</td>\n",
       "      <td>1</td>\n",
       "      <td>1</td>\n",
       "      <td>1</td>\n",
       "      <td>0</td>\n",
       "      <td>1</td>\n",
       "      <td>0</td>\n",
       "      <td>1</td>\n",
       "      <td>1</td>\n",
       "      <td>1</td>\n",
       "      <td>1</td>\n",
       "      <td>0</td>\n",
       "      <td>1</td>\n",
       "      <td>0</td>\n",
       "      <td>0</td>\n",
       "      <td>0</td>\n",
       "    </tr>\n",
       "    <tr>\n",
       "      <th>Liechtenstein</th>\n",
       "      <td>1</td>\n",
       "      <td>1</td>\n",
       "      <td>1</td>\n",
       "      <td>1</td>\n",
       "      <td>0</td>\n",
       "      <td>1</td>\n",
       "      <td>1</td>\n",
       "      <td>0</td>\n",
       "      <td>1</td>\n",
       "      <td>1</td>\n",
       "      <td>1</td>\n",
       "      <td>1</td>\n",
       "      <td>1</td>\n",
       "      <td>1</td>\n",
       "      <td>0</td>\n",
       "      <td>0</td>\n",
       "      <td>0</td>\n",
       "    </tr>\n",
       "    <tr>\n",
       "      <th>Somalia</th>\n",
       "      <td>1</td>\n",
       "      <td>1</td>\n",
       "      <td>1</td>\n",
       "      <td>1</td>\n",
       "      <td>0</td>\n",
       "      <td>0</td>\n",
       "      <td>1</td>\n",
       "      <td>0</td>\n",
       "      <td>1</td>\n",
       "      <td>1</td>\n",
       "      <td>1</td>\n",
       "      <td>1</td>\n",
       "      <td>0</td>\n",
       "      <td>1</td>\n",
       "      <td>0</td>\n",
       "      <td>0</td>\n",
       "      <td>0</td>\n",
       "    </tr>\n",
       "    <tr>\n",
       "      <th>Belize</th>\n",
       "      <td>1</td>\n",
       "      <td>1</td>\n",
       "      <td>1</td>\n",
       "      <td>1</td>\n",
       "      <td>0</td>\n",
       "      <td>1</td>\n",
       "      <td>1</td>\n",
       "      <td>1</td>\n",
       "      <td>1</td>\n",
       "      <td>1</td>\n",
       "      <td>1</td>\n",
       "      <td>1</td>\n",
       "      <td>0</td>\n",
       "      <td>1</td>\n",
       "      <td>0</td>\n",
       "      <td>0</td>\n",
       "      <td>0</td>\n",
       "    </tr>\n",
       "    <tr>\n",
       "      <th>American Samoa</th>\n",
       "      <td>2</td>\n",
       "      <td>2</td>\n",
       "      <td>2</td>\n",
       "      <td>2</td>\n",
       "      <td>0</td>\n",
       "      <td>1</td>\n",
       "      <td>1</td>\n",
       "      <td>0</td>\n",
       "      <td>2</td>\n",
       "      <td>2</td>\n",
       "      <td>2</td>\n",
       "      <td>2</td>\n",
       "      <td>1</td>\n",
       "      <td>2</td>\n",
       "      <td>0</td>\n",
       "      <td>0</td>\n",
       "      <td>0</td>\n",
       "    </tr>\n",
       "    <tr>\n",
       "      <th>...</th>\n",
       "      <td>...</td>\n",
       "      <td>...</td>\n",
       "      <td>...</td>\n",
       "      <td>...</td>\n",
       "      <td>...</td>\n",
       "      <td>...</td>\n",
       "      <td>...</td>\n",
       "      <td>...</td>\n",
       "      <td>...</td>\n",
       "      <td>...</td>\n",
       "      <td>...</td>\n",
       "      <td>...</td>\n",
       "      <td>...</td>\n",
       "      <td>...</td>\n",
       "      <td>...</td>\n",
       "      <td>...</td>\n",
       "      <td>...</td>\n",
       "    </tr>\n",
       "    <tr>\n",
       "      <th>Japan</th>\n",
       "      <td>443</td>\n",
       "      <td>443</td>\n",
       "      <td>443</td>\n",
       "      <td>443</td>\n",
       "      <td>96</td>\n",
       "      <td>178</td>\n",
       "      <td>375</td>\n",
       "      <td>125</td>\n",
       "      <td>443</td>\n",
       "      <td>443</td>\n",
       "      <td>443</td>\n",
       "      <td>443</td>\n",
       "      <td>267</td>\n",
       "      <td>443</td>\n",
       "      <td>83</td>\n",
       "      <td>83</td>\n",
       "      <td>83</td>\n",
       "    </tr>\n",
       "    <tr>\n",
       "      <th>Germany</th>\n",
       "      <td>464</td>\n",
       "      <td>464</td>\n",
       "      <td>464</td>\n",
       "      <td>464</td>\n",
       "      <td>111</td>\n",
       "      <td>188</td>\n",
       "      <td>408</td>\n",
       "      <td>106</td>\n",
       "      <td>464</td>\n",
       "      <td>464</td>\n",
       "      <td>464</td>\n",
       "      <td>464</td>\n",
       "      <td>158</td>\n",
       "      <td>464</td>\n",
       "      <td>113</td>\n",
       "      <td>113</td>\n",
       "      <td>113</td>\n",
       "    </tr>\n",
       "    <tr>\n",
       "      <th>Australia</th>\n",
       "      <td>503</td>\n",
       "      <td>503</td>\n",
       "      <td>503</td>\n",
       "      <td>503</td>\n",
       "      <td>221</td>\n",
       "      <td>246</td>\n",
       "      <td>433</td>\n",
       "      <td>169</td>\n",
       "      <td>503</td>\n",
       "      <td>503</td>\n",
       "      <td>503</td>\n",
       "      <td>503</td>\n",
       "      <td>213</td>\n",
       "      <td>503</td>\n",
       "      <td>123</td>\n",
       "      <td>123</td>\n",
       "      <td>123</td>\n",
       "    </tr>\n",
       "    <tr>\n",
       "      <th>France</th>\n",
       "      <td>616</td>\n",
       "      <td>616</td>\n",
       "      <td>616</td>\n",
       "      <td>616</td>\n",
       "      <td>160</td>\n",
       "      <td>183</td>\n",
       "      <td>546</td>\n",
       "      <td>122</td>\n",
       "      <td>616</td>\n",
       "      <td>616</td>\n",
       "      <td>616</td>\n",
       "      <td>616</td>\n",
       "      <td>305</td>\n",
       "      <td>616</td>\n",
       "      <td>186</td>\n",
       "      <td>186</td>\n",
       "      <td>186</td>\n",
       "    </tr>\n",
       "    <tr>\n",
       "      <th>United States</th>\n",
       "      <td>684</td>\n",
       "      <td>684</td>\n",
       "      <td>684</td>\n",
       "      <td>684</td>\n",
       "      <td>207</td>\n",
       "      <td>421</td>\n",
       "      <td>592</td>\n",
       "      <td>262</td>\n",
       "      <td>684</td>\n",
       "      <td>684</td>\n",
       "      <td>684</td>\n",
       "      <td>684</td>\n",
       "      <td>357</td>\n",
       "      <td>684</td>\n",
       "      <td>330</td>\n",
       "      <td>330</td>\n",
       "      <td>330</td>\n",
       "    </tr>\n",
       "  </tbody>\n",
       "</table>\n",
       "<p>206 rows × 17 columns</p>\n",
       "</div>"
      ],
      "text/plain": [
       "                name  gender  events  birth_date  nickname  hobbies  \\\n",
       "country                                                               \n",
       "Nauru              1       1       1           1         1        0   \n",
       "Liechtenstein      1       1       1           1         0        1   \n",
       "Somalia            1       1       1           1         0        0   \n",
       "Belize             1       1       1           1         0        1   \n",
       "American Samoa     2       2       2           2         0        1   \n",
       "...              ...     ...     ...         ...       ...      ...   \n",
       "Japan            443     443     443         443        96      178   \n",
       "Germany          464     464     464         464       111      188   \n",
       "Australia        503     503     503         503       221      246   \n",
       "France           616     616     616         616       160      183   \n",
       "United States    684     684     684         684       207      421   \n",
       "\n",
       "                occupation  philosophy  disciplines  day_of_year  sign  \\\n",
       "country                                                                  \n",
       "Nauru                    1           0            1            1     1   \n",
       "Liechtenstein            1           0            1            1     1   \n",
       "Somalia                  1           0            1            1     1   \n",
       "Belize                   1           1            1            1     1   \n",
       "American Samoa           1           0            2            2     2   \n",
       "...                    ...         ...          ...          ...   ...   \n",
       "Japan                  375         125          443          443   443   \n",
       "Germany                408         106          464          464   464   \n",
       "Australia              433         169          503          503   503   \n",
       "France                 546         122          616          616   616   \n",
       "United States          592         262          684          684   684   \n",
       "\n",
       "                element  discipline_element  match  medal_type  medal_code  \\\n",
       "country                                                                      \n",
       "Nauru                 1                   0      1           0           0   \n",
       "Liechtenstein         1                   1      1           0           0   \n",
       "Somalia               1                   0      1           0           0   \n",
       "Belize                1                   0      1           0           0   \n",
       "American Samoa        2                   1      2           0           0   \n",
       "...                 ...                 ...    ...         ...         ...   \n",
       "Japan               443                 267    443          83          83   \n",
       "Germany             464                 158    464         113         113   \n",
       "Australia           503                 213    503         123         123   \n",
       "France              616                 305    616         186         186   \n",
       "United States       684                 357    684         330         330   \n",
       "\n",
       "                code_athlete  \n",
       "country                       \n",
       "Nauru                      0  \n",
       "Liechtenstein              0  \n",
       "Somalia                    0  \n",
       "Belize                     0  \n",
       "American Samoa             0  \n",
       "...                      ...  \n",
       "Japan                     83  \n",
       "Germany                  113  \n",
       "Australia                123  \n",
       "France                   186  \n",
       "United States            330  \n",
       "\n",
       "[206 rows x 17 columns]"
      ]
     },
     "execution_count": 135,
     "metadata": {},
     "output_type": "execute_result"
    }
   ],
   "source": [
    "final_df.groupby('country').count().sort_values('name', ascending=True)"
   ]
  },
  {
   "cell_type": "markdown",
   "id": "99d7e29b-b55a-4750-b5b1-0bff7c801f4e",
   "metadata": {},
   "source": [
    "## 8. Aggregate Data"
   ]
  },
  {
   "cell_type": "markdown",
   "id": "4047d8e7-8fb2-47de-9b6e-3bd8b2dea12b",
   "metadata": {},
   "source": [
    "## 9. Visualize Data"
   ]
  },
  {
   "cell_type": "code",
   "execution_count": 153,
   "id": "85aecf32-6a48-459e-9b27-f87c110a4e9f",
   "metadata": {
    "tags": []
   },
   "outputs": [
    {
     "data": {
      "text/plain": [
       "([0, 1, 2, 3, 4, 5, 6, 7, 8, 9, 10, 11],\n",
       " [Text(0, 0, 'Libra'),\n",
       "  Text(1, 0, 'Virgo'),\n",
       "  Text(2, 0, 'Cancer'),\n",
       "  Text(3, 0, 'Capricorn'),\n",
       "  Text(4, 0, 'Aries'),\n",
       "  Text(5, 0, 'Aquarius'),\n",
       "  Text(6, 0, 'Leo'),\n",
       "  Text(7, 0, 'Gemini'),\n",
       "  Text(8, 0, 'Pisces'),\n",
       "  Text(9, 0, 'Taurus'),\n",
       "  Text(10, 0, 'Sagittarius'),\n",
       "  Text(11, 0, 'Scorpio')])"
      ]
     },
     "execution_count": 153,
     "metadata": {},
     "output_type": "execute_result"
    },
    {
     "data": {
      "image/png": "[encoded data removed]",
      "text/plain": [
       "<Figure size 640x480 with 1 Axes>"
      ]
     },
     "metadata": {},
     "output_type": "display_data"
    }
   ],
   "source": [
    "plt.figure()\n",
    "sns.histplot(data=final_test, x='sign', hue='medal_type', multiple='stack')\n",
    "plt.xticks(rotation=45, ha='right')"
   ]
  },
  {
   "cell_type": "code",
   "execution_count": 154,
   "id": "fc2cd4f0-c850-41ea-b9f5-5e961acd0691",
   "metadata": {
    "tags": []
   },
   "outputs": [
    {
     "data": {
      "text/plain": [
       "<Axes: xlabel='element', ylabel='Count'>"
      ]
     },
     "execution_count": 154,
     "metadata": {},
     "output_type": "execute_result"
    },
    {
     "data": {
      "image/png": "[encoded data removed]",
      "text/plain": [
       "<Figure size 640x480 with 1 Axes>"
      ]
     },
     "metadata": {},
     "output_type": "display_data"
    }
   ],
   "source": [
    "water_sports = final_test[final_test['discipline_element'] == 'Water']\n",
    "sns.histplot(data=water_sports['element'])"
   ]
  },
  {
   "cell_type": "markdown",
   "id": "b843113d-82e6-4f17-9796-080dcb350038",
   "metadata": {},
   "source": [
    "## Looking for Correlation between horoscope and discipline"
   ]
  },
  {
   "cell_type": "code",
   "execution_count": 106,
   "id": "0d8bfe5a-0acc-40d2-a6ee-344f8fc21987",
   "metadata": {
    "tags": []
   },
   "outputs": [
    {
     "data": {
      "text/plain": [
       "[]"
      ]
     },
     "execution_count": 106,
     "metadata": {},
     "output_type": "execute_result"
    },
    {
     "data": {
      "image/png": "[encoded data removed]",
      "text/plain": [
       "<Figure size 640x480 with 4 Axes>"
      ]
     },
     "metadata": {},
     "output_type": "display_data"
    }
   ],
   "source": [
    "# Initialize empty figure\n",
    "fig = plt.figure()\n",
    "# Add four axes\n",
    "ax1 = fig.add_subplot(2,2,1)\n",
    "ax2 = fig.add_subplot(2,2,2)\n",
    "ax3 = fig.add_subplot(2,2,3)\n",
    "ax4 = fig.add_subplot(2,2,4)\n",
    "\n",
    "# Plot data\n",
    "# Plot sine wave with different colors on different axes\n",
    "ax1.plot(kind='hist', data=water_sports['element'])"
   ]
  },
  {
   "cell_type": "code",
   "execution_count": 105,
   "id": "f097b36d-b6fa-4e55-8ce9-ba633f62ed3e",
   "metadata": {
    "tags": []
   },
   "outputs": [
    {
     "data": {
      "text/plain": [
       "[]"
      ]
     },
     "execution_count": 105,
     "metadata": {},
     "output_type": "execute_result"
    },
    {
     "data": {
      "image/png": "[encoded data removed]",
      "text/plain": [
       "<Figure size 640x480 with 4 Axes>"
      ]
     },
     "metadata": {},
     "output_type": "display_data"
    }
   ],
   "source": [
    "# plot does painting into frames (ax) tha are hanging on gallery wall (figure)\n",
    "\n",
    "# # Set axes limits, labels, + ticks\n",
    "# for i,ax in enumerate([ax1,ax2,ax3,ax4]):\n",
    "#     # i is the list index, but subplots count from 1.\n",
    "#     # so make a new variable to keep track of subplot number:\n",
    "#     subplot_number =  i + 1 \n",
    "#     # Set x limits \n",
    "#     ax.set_xlim(-5,5)\n",
    "#     # Set title\n",
    "#     ax.set_title(f'$\\sin{{(x - {i})}}$')\n",
    "#     # Only label x ticks and x-axis on bottom row\n",
    "#     if subplot_number < 3:\n",
    "#         ax.set_xticklabels([])\n",
    "#     else:\n",
    "#         ax.set_xlabel('x')\n",
    "#     # Only label y ticks and y-axis on left column\n",
    "#     if subplot_number == 1 or subplot_number == 3:\n",
    "#         ax.set_ylabel('y')\n",
    "#     else:\n",
    "#         ax.set_yticklabels([])\n",
    "\n",
    "# plt.tight_layout()"
   ]
  },
  {
   "cell_type": "code",
   "execution_count": 155,
   "id": "f76ee89c-12a0-45d3-b363-be1bf69436d2",
   "metadata": {
    "tags": []
   },
   "outputs": [
    {
     "data": {
      "text/plain": [
       "<Axes: xlabel='element', ylabel='Count'>"
      ]
     },
     "execution_count": 155,
     "metadata": {},
     "output_type": "execute_result"
    },
    {
     "data": {
      "image/png": "[encoded data removed]",
      "text/plain": [
       "<Figure size 640x480 with 1 Axes>"
      ]
     },
     "metadata": {},
     "output_type": "display_data"
    }
   ],
   "source": [
    "# Fire\n",
    "fire_sports = final_test[final_test['discipline_element'] == 'Fire']\n",
    "sns.histplot(fire_sports['element'])"
   ]
  },
  {
   "cell_type": "code",
   "execution_count": 156,
   "id": "f3262be0-1819-4289-8b05-152df7596e53",
   "metadata": {
    "tags": []
   },
   "outputs": [
    {
     "data": {
      "text/plain": [
       "<Axes: xlabel='element', ylabel='Count'>"
      ]
     },
     "execution_count": 156,
     "metadata": {},
     "output_type": "execute_result"
    },
    {
     "data": {
      "image/png": "[encoded data removed]",
      "text/plain": [
       "<Figure size 640x480 with 1 Axes>"
      ]
     },
     "metadata": {},
     "output_type": "display_data"
    }
   ],
   "source": [
    "# Earth\n",
    "earth_sports = final_test[final_test['discipline_element'] == 'Earth']\n",
    "sns.histplot(earth_sports['element'])"
   ]
  },
  {
   "cell_type": "code",
   "execution_count": 157,
   "id": "749d2838-0d24-45b0-884a-0fb414fa6621",
   "metadata": {
    "tags": []
   },
   "outputs": [
    {
     "data": {
      "text/plain": [
       "<Axes: xlabel='element', ylabel='Count'>"
      ]
     },
     "execution_count": 157,
     "metadata": {},
     "output_type": "execute_result"
    },
    {
     "data": {
      "image/png": "[encoded data removed]",
      "text/plain": [
       "<Figure size 640x480 with 1 Axes>"
      ]
     },
     "metadata": {},
     "output_type": "display_data"
    }
   ],
   "source": [
    "# Air\n",
    "air_sports = final_test[final_test['discipline_element'] == 'Air']\n",
    "sns.histplot(air_sports['element'])"
   ]
  }
 ],
 "metadata": {
  "kernelspec": {
   "display_name": "Python 3.10.0",
   "language": "python",
   "name": "python3.10.0"
  },
  "language_info": {
   "codemirror_mode": {
    "name": "ipython",
    "version": 3
   },
   "file_extension": ".py",
   "mimetype": "text/x-python",
   "name": "python",
   "nbconvert_exporter": "python",
   "pygments_lexer": "ipython3",
   "version": "3.10.0"
  }
 },
 "nbformat": 4,
 "nbformat_minor": 5
}
