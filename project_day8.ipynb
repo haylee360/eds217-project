{
 "cells": [
  {
   "cell_type": "markdown",
   "id": "4c6c2ce1-61e3-4f62-bf7f-6ac5abd95b7b",
   "metadata": {},
   "source": [
    "# Summer 2024 Paris Olympics Exploration\n",
    "\n",
    "[Data](https://www.kaggle.com/datasets/muhammadehsan02/olympic-summer-games-paris-2024?resource=download)\n",
    "\n",
    "### Setup"
   ]
  },
  {
   "cell_type": "code",
   "execution_count": 1,
   "id": "77cb57b8-f6c3-4d11-bfe4-a3aab3d45ddf",
   "metadata": {
    "tags": []
   },
   "outputs": [],
   "source": [
    "import pandas as pd\n",
    "import numpy as np\n",
    "import seaborn as sns\n",
    "import matplotlib.pyplot as plt"
   ]
  },
  {
   "cell_type": "code",
   "execution_count": 2,
   "id": "bc17de45-340b-42ad-b95b-8075778aee0d",
   "metadata": {
    "tags": []
   },
   "outputs": [],
   "source": [
    "athletes_df = pd.read_csv(\"~/MEDS/EDS-217/eds217-project/raw_data/athletes.csv\")\n",
    "medals_total_df = pd.read_csv(\"~/MEDS/EDS-217/eds217-project/raw_data/medals_total.csv\")"
   ]
  },
  {
   "cell_type": "code",
   "execution_count": 3,
   "id": "fb6a6a44-c1bb-4f62-8420-0def21e3415c",
   "metadata": {
    "tags": []
   },
   "outputs": [
    {
     "data": {
      "text/plain": [
       "<bound method DataFrame.info of    country_code        country                country_long  Gold Medal  \\\n",
       "0           USA  United States    United States of America          40   \n",
       "1           CHN          China  People's Republic of China          40   \n",
       "2           JPN          Japan                       Japan          20   \n",
       "3           AUS      Australia                   Australia          18   \n",
       "4           FRA         France                      France          16   \n",
       "..          ...            ...                         ...         ...   \n",
       "87          PER           Peru                        Peru           0   \n",
       "88          QAT          Qatar                       Qatar           0   \n",
       "89          SGP      Singapore                   Singapore           0   \n",
       "90          SVK       Slovakia                    Slovakia           0   \n",
       "91          ZAM         Zambia                      Zambia           0   \n",
       "\n",
       "    Silver Medal  Bronze Medal  Total  \n",
       "0             44            42    126  \n",
       "1             27            24     91  \n",
       "2             12            13     45  \n",
       "3             19            16     53  \n",
       "4             26            22     64  \n",
       "..           ...           ...    ...  \n",
       "87             0             1      1  \n",
       "88             0             1      1  \n",
       "89             0             1      1  \n",
       "90             0             1      1  \n",
       "91             0             1      1  \n",
       "\n",
       "[92 rows x 7 columns]>"
      ]
     },
     "execution_count": 3,
     "metadata": {},
     "output_type": "execute_result"
    }
   ],
   "source": [
    "medals_total_df.info"
   ]
  },
  {
   "cell_type": "markdown",
   "id": "fe284fdf-cf80-4b2e-8193-84b929dbf875",
   "metadata": {},
   "source": [
    "## Cleaning birthdays and filter"
   ]
  },
  {
   "cell_type": "code",
   "execution_count": 38,
   "id": "31863101-86e2-49a7-8c9e-cd6e94f49bd2",
   "metadata": {
    "tags": []
   },
   "outputs": [],
   "source": [
    "athletes_df['birth_date'] = pd.to_datetime(athletes_df['birth_date'], format= \"%Y-%m-%d\")\n",
    "athletes_df['disciplines'] = athletes_df['disciplines'].astype('string')"
   ]
  },
  {
   "cell_type": "code",
   "execution_count": 51,
   "id": "5cb70ba4-1e53-4d34-91f0-f2f3772187fc",
   "metadata": {
    "tags": []
   },
   "outputs": [],
   "source": [
    "# Fixing formatting\n",
    "athletes_df['disciplines'] = athletes_df['disciplines'].str.replace(\"['\", \" \")\n",
    "athletes_df['disciplines'] = athletes_df['disciplines'].str.replace(\"']\", \" \")\n",
    "athletes_df['disciplines'] = athletes_df['disciplines'].str.strip()"
   ]
  },
  {
   "cell_type": "code",
   "execution_count": 59,
   "id": "cee3223e-30f7-4d38-a9c0-78997ad39110",
   "metadata": {
    "tags": []
   },
   "outputs": [
    {
     "data": {
      "text/html": [
       "<div>\n",
       "<style scoped>\n",
       "    .dataframe tbody tr th:only-of-type {\n",
       "        vertical-align: middle;\n",
       "    }\n",
       "\n",
       "    .dataframe tbody tr th {\n",
       "        vertical-align: top;\n",
       "    }\n",
       "\n",
       "    .dataframe thead th {\n",
       "        text-align: right;\n",
       "    }\n",
       "</style>\n",
       "<table border=\"1\" class=\"dataframe\">\n",
       "  <thead>\n",
       "    <tr style=\"text-align: right;\">\n",
       "      <th></th>\n",
       "      <th>name</th>\n",
       "      <th>gender</th>\n",
       "      <th>country</th>\n",
       "      <th>events</th>\n",
       "      <th>birth_date</th>\n",
       "      <th>nickname</th>\n",
       "      <th>hobbies</th>\n",
       "      <th>occupation</th>\n",
       "      <th>philosophy</th>\n",
       "      <th>disciplines</th>\n",
       "    </tr>\n",
       "  </thead>\n",
       "  <tbody>\n",
       "    <tr>\n",
       "      <th>0</th>\n",
       "      <td>ALEKSANYAN Artur</td>\n",
       "      <td>Male</td>\n",
       "      <td>Armenia</td>\n",
       "      <td>[\"Men's Greco-Roman 97kg\"]</td>\n",
       "      <td>1991-10-21</td>\n",
       "      <td>White Bear</td>\n",
       "      <td>Playing and watching football</td>\n",
       "      <td>Athlete</td>\n",
       "      <td>\"Wrestling is my life.\" (mediamax.am. 18 May 2...</td>\n",
       "      <td>Wrestling</td>\n",
       "    </tr>\n",
       "    <tr>\n",
       "      <th>1</th>\n",
       "      <td>AMOYAN Malkhas</td>\n",
       "      <td>Male</td>\n",
       "      <td>Armenia</td>\n",
       "      <td>[\"Men's Greco-Roman 77kg\"]</td>\n",
       "      <td>1999-01-22</td>\n",
       "      <td>NaN</td>\n",
       "      <td>NaN</td>\n",
       "      <td>NaN</td>\n",
       "      <td>\"To become a good athlete, you first have to b...</td>\n",
       "      <td>Wrestling</td>\n",
       "    </tr>\n",
       "    <tr>\n",
       "      <th>2</th>\n",
       "      <td>GALSTYAN Slavik</td>\n",
       "      <td>Male</td>\n",
       "      <td>Armenia</td>\n",
       "      <td>[\"Men's Greco-Roman 67kg\"]</td>\n",
       "      <td>1996-12-21</td>\n",
       "      <td>NaN</td>\n",
       "      <td>NaN</td>\n",
       "      <td>NaN</td>\n",
       "      <td>NaN</td>\n",
       "      <td>Wrestling</td>\n",
       "    </tr>\n",
       "    <tr>\n",
       "      <th>3</th>\n",
       "      <td>HARUTYUNYAN Arsen</td>\n",
       "      <td>Male</td>\n",
       "      <td>Armenia</td>\n",
       "      <td>[\"Men's Freestyle 57kg\"]</td>\n",
       "      <td>1999-11-22</td>\n",
       "      <td>NaN</td>\n",
       "      <td>NaN</td>\n",
       "      <td>Athlete</td>\n",
       "      <td>“Nothing is impossible, set goals in front of ...</td>\n",
       "      <td>Wrestling</td>\n",
       "    </tr>\n",
       "    <tr>\n",
       "      <th>4</th>\n",
       "      <td>TEVANYAN Vazgen</td>\n",
       "      <td>Male</td>\n",
       "      <td>Armenia</td>\n",
       "      <td>[\"Men's Freestyle 65kg\"]</td>\n",
       "      <td>1999-10-27</td>\n",
       "      <td>NaN</td>\n",
       "      <td>NaN</td>\n",
       "      <td>Athlete</td>\n",
       "      <td>NaN</td>\n",
       "      <td>Wrestling</td>\n",
       "    </tr>\n",
       "    <tr>\n",
       "      <th>...</th>\n",
       "      <td>...</td>\n",
       "      <td>...</td>\n",
       "      <td>...</td>\n",
       "      <td>...</td>\n",
       "      <td>...</td>\n",
       "      <td>...</td>\n",
       "      <td>...</td>\n",
       "      <td>...</td>\n",
       "      <td>...</td>\n",
       "      <td>...</td>\n",
       "    </tr>\n",
       "    <tr>\n",
       "      <th>11105</th>\n",
       "      <td>JOSEPH Elijah</td>\n",
       "      <td>Male</td>\n",
       "      <td>Trinidad and Tobago</td>\n",
       "      <td>[\"Men's 4 x 400m Relay\"]</td>\n",
       "      <td>2001-07-03</td>\n",
       "      <td>NaN</td>\n",
       "      <td>NaN</td>\n",
       "      <td>Athlete</td>\n",
       "      <td>NaN</td>\n",
       "      <td>Athletics</td>\n",
       "    </tr>\n",
       "    <tr>\n",
       "      <th>11106</th>\n",
       "      <td>HOMAN Khrystyna</td>\n",
       "      <td>Female</td>\n",
       "      <td>Ukraine</td>\n",
       "      <td>['Women +78 kg']</td>\n",
       "      <td>1999-01-31</td>\n",
       "      <td>Danger</td>\n",
       "      <td>Playing the guitar, eating delicious food, pla...</td>\n",
       "      <td>Athlete</td>\n",
       "      <td>NaN</td>\n",
       "      <td>Judo</td>\n",
       "    </tr>\n",
       "    <tr>\n",
       "      <th>11107</th>\n",
       "      <td>CHELANGAT Annet Chemengich</td>\n",
       "      <td>Female</td>\n",
       "      <td>Uganda</td>\n",
       "      <td>[\"Women's 10,000m\"]</td>\n",
       "      <td>1993-07-29</td>\n",
       "      <td>NaN</td>\n",
       "      <td>NaN</td>\n",
       "      <td>Athlete</td>\n",
       "      <td>NaN</td>\n",
       "      <td>Athletics</td>\n",
       "    </tr>\n",
       "    <tr>\n",
       "      <th>11108</th>\n",
       "      <td>ADA ETO Sefora</td>\n",
       "      <td>Female</td>\n",
       "      <td>Equatorial Guinea</td>\n",
       "      <td>[\"Women's 100m\"]</td>\n",
       "      <td>2003-06-11</td>\n",
       "      <td>NaN</td>\n",
       "      <td>NaN</td>\n",
       "      <td>NaN</td>\n",
       "      <td>NaN</td>\n",
       "      <td>Athletics</td>\n",
       "    </tr>\n",
       "    <tr>\n",
       "      <th>11109</th>\n",
       "      <td>LIUZZI Emanuela</td>\n",
       "      <td>Female</td>\n",
       "      <td>Italy</td>\n",
       "      <td>[\"Women's Freestyle 50kg\"]</td>\n",
       "      <td>2000-04-27</td>\n",
       "      <td>NaN</td>\n",
       "      <td>NaN</td>\n",
       "      <td>Athlete</td>\n",
       "      <td>NaN</td>\n",
       "      <td>Wrestling</td>\n",
       "    </tr>\n",
       "  </tbody>\n",
       "</table>\n",
       "<p>11110 rows × 10 columns</p>\n",
       "</div>"
      ],
      "text/plain": [
       "                             name  gender              country  \\\n",
       "0                ALEKSANYAN Artur    Male              Armenia   \n",
       "1                  AMOYAN Malkhas    Male              Armenia   \n",
       "2                 GALSTYAN Slavik    Male              Armenia   \n",
       "3               HARUTYUNYAN Arsen    Male              Armenia   \n",
       "4                 TEVANYAN Vazgen    Male              Armenia   \n",
       "...                           ...     ...                  ...   \n",
       "11105               JOSEPH Elijah    Male  Trinidad and Tobago   \n",
       "11106             HOMAN Khrystyna  Female              Ukraine   \n",
       "11107  CHELANGAT Annet Chemengich  Female               Uganda   \n",
       "11108              ADA ETO Sefora  Female    Equatorial Guinea   \n",
       "11109             LIUZZI Emanuela  Female                Italy   \n",
       "\n",
       "                           events birth_date    nickname  \\\n",
       "0      [\"Men's Greco-Roman 97kg\"] 1991-10-21  White Bear   \n",
       "1      [\"Men's Greco-Roman 77kg\"] 1999-01-22         NaN   \n",
       "2      [\"Men's Greco-Roman 67kg\"] 1996-12-21         NaN   \n",
       "3        [\"Men's Freestyle 57kg\"] 1999-11-22         NaN   \n",
       "4        [\"Men's Freestyle 65kg\"] 1999-10-27         NaN   \n",
       "...                           ...        ...         ...   \n",
       "11105    [\"Men's 4 x 400m Relay\"] 2001-07-03         NaN   \n",
       "11106            ['Women +78 kg'] 1999-01-31      Danger   \n",
       "11107         [\"Women's 10,000m\"] 1993-07-29         NaN   \n",
       "11108            [\"Women's 100m\"] 2003-06-11         NaN   \n",
       "11109  [\"Women's Freestyle 50kg\"] 2000-04-27         NaN   \n",
       "\n",
       "                                                 hobbies occupation  \\\n",
       "0                          Playing and watching football    Athlete   \n",
       "1                                                    NaN        NaN   \n",
       "2                                                    NaN        NaN   \n",
       "3                                                    NaN    Athlete   \n",
       "4                                                    NaN    Athlete   \n",
       "...                                                  ...        ...   \n",
       "11105                                                NaN    Athlete   \n",
       "11106  Playing the guitar, eating delicious food, pla...    Athlete   \n",
       "11107                                                NaN    Athlete   \n",
       "11108                                                NaN        NaN   \n",
       "11109                                                NaN    Athlete   \n",
       "\n",
       "                                              philosophy disciplines  \n",
       "0      \"Wrestling is my life.\" (mediamax.am. 18 May 2...   Wrestling  \n",
       "1      \"To become a good athlete, you first have to b...   Wrestling  \n",
       "2                                                    NaN   Wrestling  \n",
       "3      “Nothing is impossible, set goals in front of ...   Wrestling  \n",
       "4                                                    NaN   Wrestling  \n",
       "...                                                  ...         ...  \n",
       "11105                                                NaN   Athletics  \n",
       "11106                                                NaN        Judo  \n",
       "11107                                                NaN   Athletics  \n",
       "11108                                                NaN   Athletics  \n",
       "11109                                                NaN   Wrestling  \n",
       "\n",
       "[11110 rows x 10 columns]"
      ]
     },
     "execution_count": 59,
     "metadata": {},
     "output_type": "execute_result"
    }
   ],
   "source": [
    "# Selecting columns\n",
    "ath_select = athletes_df[['name', 'gender', 'country', 'events', 'birth_date', 'nickname', 'hobbies', 'occupation', 'philosophy', 'disciplines']].copy()\n",
    "ath_select"
   ]
  },
  {
   "cell_type": "code",
   "execution_count": 60,
   "id": "7d1677c1-574e-4996-bdab-dbd65d50cff2",
   "metadata": {
    "tags": []
   },
   "outputs": [],
   "source": [
    "# Filtering by sport\n",
    "ath_select = ath_select[ath_select['disciplines'].isin(['Diving', 'Sailing', 'Swimming', 'Surfing', 'Water Polo', 'Shooting', 'Archcery', 'Badminton', 'Trampoline Gymnastics', 'Artistic Gymnastics', 'Sport Climbing', 'Judo', 'Weightlifting', 'Wrestling', 'Cycling Mountain Bike', 'Basketball', 'Volleyball', 'Rugby Sevens', 'Football', 'Fencing'])]"
   ]
  },
  {
   "cell_type": "code",
   "execution_count": 61,
   "id": "7b959dbd-4ea6-4ee1-9165-6c099604b6ce",
   "metadata": {
    "tags": []
   },
   "outputs": [
    {
     "data": {
      "text/plain": [
       "array(['Artistic Gymnastics', 'Badminton', 'Basketball',\n",
       "       'Cycling Mountain Bike', 'Diving', 'Fencing', 'Football', 'Judo',\n",
       "       'Rugby Sevens', 'Sailing', 'Shooting', 'Sport Climbing', 'Surfing',\n",
       "       'Swimming', 'Trampoline Gymnastics', 'Volleyball', 'Water Polo',\n",
       "       'Weightlifting', 'Wrestling'], dtype=object)"
      ]
     },
     "execution_count": 61,
     "metadata": {},
     "output_type": "execute_result"
    }
   ],
   "source": [
    "ath_select['disciplines']\n",
    "np.unique(ath_select['disciplines'])"
   ]
  },
  {
   "cell_type": "markdown",
   "id": "901a4fc9-1b9e-4a86-8853-aadc5802f5d1",
   "metadata": {},
   "source": [
    "## Finding Olympic athlete's Star Sign\n"
   ]
  },
  {
   "cell_type": "code",
   "execution_count": 27,
   "id": "95b05dcb-6c2b-4b98-b4e2-813803a08d5e",
   "metadata": {
    "tags": []
   },
   "outputs": [
    {
     "data": {
      "text/plain": [
       "name                   object\n",
       "gender                 object\n",
       "country                object\n",
       "events                 object\n",
       "birth_date     datetime64[ns]\n",
       "nickname               object\n",
       "hobbies                object\n",
       "occupation             object\n",
       "philosophy             object\n",
       "disciplines            object\n",
       "day_of_year             int64\n",
       "dtype: object"
      ]
     },
     "execution_count": 27,
     "metadata": {},
     "output_type": "execute_result"
    }
   ],
   "source": [
    "# Creating the Day of Year Column\n",
    "ath_select['day_of_year'] = ath_select['birth_date'].apply(lambda x: x.timetuple().tm_yday)\n",
    "ath_select.dtypes"
   ]
  },
  {
   "cell_type": "code",
   "execution_count": 28,
   "id": "caf5e485-2246-4090-b265-780318da627f",
   "metadata": {
    "tags": []
   },
   "outputs": [],
   "source": [
    "def get_sign(df):\n",
    "    if ((df >= 20) & (df <=49)):\n",
    "        return 'Aquarius'\n",
    "    elif ((df >= 50) & (df <=80)):\n",
    "        return 'Pisces'\n",
    "    elif ((df >= 81) & (df <=110)):\n",
    "        return 'Aries'\n",
    "    elif ((df >= 111) & (df <=140)):\n",
    "        return 'Taurus'\n",
    "    elif ((df >= 141) & (df <=172)):\n",
    "        return 'Gemini'\n",
    "    elif ((df >= 173) & (df <=204)):\n",
    "        return 'Cancer'\n",
    "    elif ((df >= 205) & (df <=234)):\n",
    "        return 'Leo'\n",
    "    elif ((df >= 235) & (df <=265)):\n",
    "        return 'Virgo'\n",
    "    elif ((df >= 266) & (df <=295)):\n",
    "        return 'Libra'\n",
    "    elif ((df >= 296) & (df <=325)):\n",
    "        return 'Scorpio'\n",
    "    elif ((df >= 326) & (df <=356)):\n",
    "        return 'Sagittarius'\n",
    "    elif ((df >= 357) | (df <= 19)):\n",
    "        return 'Capricorn'"
   ]
  },
  {
   "cell_type": "code",
   "execution_count": 29,
   "id": "8c746973-e249-4806-a40c-8b7a8c8304a6",
   "metadata": {
    "tags": []
   },
   "outputs": [
    {
     "data": {
      "text/html": [
       "<div>\n",
       "<style scoped>\n",
       "    .dataframe tbody tr th:only-of-type {\n",
       "        vertical-align: middle;\n",
       "    }\n",
       "\n",
       "    .dataframe tbody tr th {\n",
       "        vertical-align: top;\n",
       "    }\n",
       "\n",
       "    .dataframe thead th {\n",
       "        text-align: right;\n",
       "    }\n",
       "</style>\n",
       "<table border=\"1\" class=\"dataframe\">\n",
       "  <thead>\n",
       "    <tr style=\"text-align: right;\">\n",
       "      <th></th>\n",
       "      <th>name</th>\n",
       "      <th>gender</th>\n",
       "      <th>country</th>\n",
       "      <th>events</th>\n",
       "      <th>birth_date</th>\n",
       "      <th>nickname</th>\n",
       "      <th>hobbies</th>\n",
       "      <th>occupation</th>\n",
       "      <th>philosophy</th>\n",
       "      <th>disciplines</th>\n",
       "      <th>day_of_year</th>\n",
       "      <th>sign</th>\n",
       "    </tr>\n",
       "  </thead>\n",
       "  <tbody>\n",
       "    <tr>\n",
       "      <th>0</th>\n",
       "      <td>ALEKSANYAN Artur</td>\n",
       "      <td>Male</td>\n",
       "      <td>Armenia</td>\n",
       "      <td>[\"Men's Greco-Roman 97kg\"]</td>\n",
       "      <td>1991-10-21</td>\n",
       "      <td>White Bear</td>\n",
       "      <td>Playing and watching football</td>\n",
       "      <td>Athlete</td>\n",
       "      <td>\"Wrestling is my life.\" (mediamax.am. 18 May 2...</td>\n",
       "      <td>['Wrestling']</td>\n",
       "      <td>294</td>\n",
       "      <td>Libra</td>\n",
       "    </tr>\n",
       "    <tr>\n",
       "      <th>1</th>\n",
       "      <td>AMOYAN Malkhas</td>\n",
       "      <td>Male</td>\n",
       "      <td>Armenia</td>\n",
       "      <td>[\"Men's Greco-Roman 77kg\"]</td>\n",
       "      <td>1999-01-22</td>\n",
       "      <td>NaN</td>\n",
       "      <td>NaN</td>\n",
       "      <td>NaN</td>\n",
       "      <td>\"To become a good athlete, you first have to b...</td>\n",
       "      <td>['Wrestling']</td>\n",
       "      <td>22</td>\n",
       "      <td>Aquarius</td>\n",
       "    </tr>\n",
       "    <tr>\n",
       "      <th>2</th>\n",
       "      <td>GALSTYAN Slavik</td>\n",
       "      <td>Male</td>\n",
       "      <td>Armenia</td>\n",
       "      <td>[\"Men's Greco-Roman 67kg\"]</td>\n",
       "      <td>1996-12-21</td>\n",
       "      <td>NaN</td>\n",
       "      <td>NaN</td>\n",
       "      <td>NaN</td>\n",
       "      <td>NaN</td>\n",
       "      <td>['Wrestling']</td>\n",
       "      <td>356</td>\n",
       "      <td>Sagittarius</td>\n",
       "    </tr>\n",
       "    <tr>\n",
       "      <th>3</th>\n",
       "      <td>HARUTYUNYAN Arsen</td>\n",
       "      <td>Male</td>\n",
       "      <td>Armenia</td>\n",
       "      <td>[\"Men's Freestyle 57kg\"]</td>\n",
       "      <td>1999-11-22</td>\n",
       "      <td>NaN</td>\n",
       "      <td>NaN</td>\n",
       "      <td>Athlete</td>\n",
       "      <td>“Nothing is impossible, set goals in front of ...</td>\n",
       "      <td>['Wrestling']</td>\n",
       "      <td>326</td>\n",
       "      <td>Sagittarius</td>\n",
       "    </tr>\n",
       "    <tr>\n",
       "      <th>4</th>\n",
       "      <td>TEVANYAN Vazgen</td>\n",
       "      <td>Male</td>\n",
       "      <td>Armenia</td>\n",
       "      <td>[\"Men's Freestyle 65kg\"]</td>\n",
       "      <td>1999-10-27</td>\n",
       "      <td>NaN</td>\n",
       "      <td>NaN</td>\n",
       "      <td>Athlete</td>\n",
       "      <td>NaN</td>\n",
       "      <td>['Wrestling']</td>\n",
       "      <td>300</td>\n",
       "      <td>Scorpio</td>\n",
       "    </tr>\n",
       "  </tbody>\n",
       "</table>\n",
       "</div>"
      ],
      "text/plain": [
       "                name gender  country                      events birth_date  \\\n",
       "0   ALEKSANYAN Artur   Male  Armenia  [\"Men's Greco-Roman 97kg\"] 1991-10-21   \n",
       "1     AMOYAN Malkhas   Male  Armenia  [\"Men's Greco-Roman 77kg\"] 1999-01-22   \n",
       "2    GALSTYAN Slavik   Male  Armenia  [\"Men's Greco-Roman 67kg\"] 1996-12-21   \n",
       "3  HARUTYUNYAN Arsen   Male  Armenia    [\"Men's Freestyle 57kg\"] 1999-11-22   \n",
       "4    TEVANYAN Vazgen   Male  Armenia    [\"Men's Freestyle 65kg\"] 1999-10-27   \n",
       "\n",
       "     nickname                        hobbies occupation  \\\n",
       "0  White Bear  Playing and watching football    Athlete   \n",
       "1         NaN                            NaN        NaN   \n",
       "2         NaN                            NaN        NaN   \n",
       "3         NaN                            NaN    Athlete   \n",
       "4         NaN                            NaN    Athlete   \n",
       "\n",
       "                                          philosophy    disciplines  \\\n",
       "0  \"Wrestling is my life.\" (mediamax.am. 18 May 2...  ['Wrestling']   \n",
       "1  \"To become a good athlete, you first have to b...  ['Wrestling']   \n",
       "2                                                NaN  ['Wrestling']   \n",
       "3  “Nothing is impossible, set goals in front of ...  ['Wrestling']   \n",
       "4                                                NaN  ['Wrestling']   \n",
       "\n",
       "   day_of_year         sign  \n",
       "0          294        Libra  \n",
       "1           22     Aquarius  \n",
       "2          356  Sagittarius  \n",
       "3          326  Sagittarius  \n",
       "4          300      Scorpio  "
      ]
     },
     "execution_count": 29,
     "metadata": {},
     "output_type": "execute_result"
    }
   ],
   "source": [
    "ath_select['sign'] = ath_select['day_of_year'].apply(get_sign)\n",
    "ath_select.head()"
   ]
  },
  {
   "cell_type": "markdown",
   "id": "604ade75-3dbf-4181-a842-4e678975a5b5",
   "metadata": {},
   "source": [
    "## Turning Horoscope into Sign type"
   ]
  },
  {
   "cell_type": "code",
   "execution_count": 30,
   "id": "fc91eca0-5f58-4823-81e2-c39d823c60f8",
   "metadata": {
    "tags": []
   },
   "outputs": [],
   "source": [
    "def find_element(df):\n",
    "    if ((df == 'Aries') | (df == 'Leo') | (df == 'Sagittarius')):\n",
    "        return(\"Fire\")\n",
    "        \n",
    "    elif ((df == 'Taurus') | (df == 'Virgo') | (df == 'Capricorn')):\n",
    "        return(\"Earth\")\n",
    "        \n",
    "    elif ((df == 'Gemini') | (df == 'Libra') | (df == 'Aquarius')):\n",
    "        return(\"Air\")\n",
    "        \n",
    "    elif ((df == 'Cancer') | (df == 'Scorpio') | (df == 'Pisces')):\n",
    "        return(\"Water\")"
   ]
  },
  {
   "cell_type": "code",
   "execution_count": 31,
   "id": "300ef06c-f71f-4fae-b55f-93f18728dc61",
   "metadata": {
    "tags": []
   },
   "outputs": [
    {
     "data": {
      "text/html": [
       "<div>\n",
       "<style scoped>\n",
       "    .dataframe tbody tr th:only-of-type {\n",
       "        vertical-align: middle;\n",
       "    }\n",
       "\n",
       "    .dataframe tbody tr th {\n",
       "        vertical-align: top;\n",
       "    }\n",
       "\n",
       "    .dataframe thead th {\n",
       "        text-align: right;\n",
       "    }\n",
       "</style>\n",
       "<table border=\"1\" class=\"dataframe\">\n",
       "  <thead>\n",
       "    <tr style=\"text-align: right;\">\n",
       "      <th></th>\n",
       "      <th>name</th>\n",
       "      <th>gender</th>\n",
       "      <th>country</th>\n",
       "      <th>events</th>\n",
       "      <th>birth_date</th>\n",
       "      <th>nickname</th>\n",
       "      <th>hobbies</th>\n",
       "      <th>occupation</th>\n",
       "      <th>philosophy</th>\n",
       "      <th>disciplines</th>\n",
       "      <th>day_of_year</th>\n",
       "      <th>sign</th>\n",
       "      <th>element</th>\n",
       "    </tr>\n",
       "  </thead>\n",
       "  <tbody>\n",
       "    <tr>\n",
       "      <th>0</th>\n",
       "      <td>ALEKSANYAN Artur</td>\n",
       "      <td>Male</td>\n",
       "      <td>Armenia</td>\n",
       "      <td>[\"Men's Greco-Roman 97kg\"]</td>\n",
       "      <td>1991-10-21</td>\n",
       "      <td>White Bear</td>\n",
       "      <td>Playing and watching football</td>\n",
       "      <td>Athlete</td>\n",
       "      <td>\"Wrestling is my life.\" (mediamax.am. 18 May 2...</td>\n",
       "      <td>['Wrestling']</td>\n",
       "      <td>294</td>\n",
       "      <td>Libra</td>\n",
       "      <td>Air</td>\n",
       "    </tr>\n",
       "    <tr>\n",
       "      <th>1</th>\n",
       "      <td>AMOYAN Malkhas</td>\n",
       "      <td>Male</td>\n",
       "      <td>Armenia</td>\n",
       "      <td>[\"Men's Greco-Roman 77kg\"]</td>\n",
       "      <td>1999-01-22</td>\n",
       "      <td>NaN</td>\n",
       "      <td>NaN</td>\n",
       "      <td>NaN</td>\n",
       "      <td>\"To become a good athlete, you first have to b...</td>\n",
       "      <td>['Wrestling']</td>\n",
       "      <td>22</td>\n",
       "      <td>Aquarius</td>\n",
       "      <td>Air</td>\n",
       "    </tr>\n",
       "    <tr>\n",
       "      <th>2</th>\n",
       "      <td>GALSTYAN Slavik</td>\n",
       "      <td>Male</td>\n",
       "      <td>Armenia</td>\n",
       "      <td>[\"Men's Greco-Roman 67kg\"]</td>\n",
       "      <td>1996-12-21</td>\n",
       "      <td>NaN</td>\n",
       "      <td>NaN</td>\n",
       "      <td>NaN</td>\n",
       "      <td>NaN</td>\n",
       "      <td>['Wrestling']</td>\n",
       "      <td>356</td>\n",
       "      <td>Sagittarius</td>\n",
       "      <td>Fire</td>\n",
       "    </tr>\n",
       "    <tr>\n",
       "      <th>3</th>\n",
       "      <td>HARUTYUNYAN Arsen</td>\n",
       "      <td>Male</td>\n",
       "      <td>Armenia</td>\n",
       "      <td>[\"Men's Freestyle 57kg\"]</td>\n",
       "      <td>1999-11-22</td>\n",
       "      <td>NaN</td>\n",
       "      <td>NaN</td>\n",
       "      <td>Athlete</td>\n",
       "      <td>“Nothing is impossible, set goals in front of ...</td>\n",
       "      <td>['Wrestling']</td>\n",
       "      <td>326</td>\n",
       "      <td>Sagittarius</td>\n",
       "      <td>Fire</td>\n",
       "    </tr>\n",
       "    <tr>\n",
       "      <th>4</th>\n",
       "      <td>TEVANYAN Vazgen</td>\n",
       "      <td>Male</td>\n",
       "      <td>Armenia</td>\n",
       "      <td>[\"Men's Freestyle 65kg\"]</td>\n",
       "      <td>1999-10-27</td>\n",
       "      <td>NaN</td>\n",
       "      <td>NaN</td>\n",
       "      <td>Athlete</td>\n",
       "      <td>NaN</td>\n",
       "      <td>['Wrestling']</td>\n",
       "      <td>300</td>\n",
       "      <td>Scorpio</td>\n",
       "      <td>Water</td>\n",
       "    </tr>\n",
       "  </tbody>\n",
       "</table>\n",
       "</div>"
      ],
      "text/plain": [
       "                name gender  country                      events birth_date  \\\n",
       "0   ALEKSANYAN Artur   Male  Armenia  [\"Men's Greco-Roman 97kg\"] 1991-10-21   \n",
       "1     AMOYAN Malkhas   Male  Armenia  [\"Men's Greco-Roman 77kg\"] 1999-01-22   \n",
       "2    GALSTYAN Slavik   Male  Armenia  [\"Men's Greco-Roman 67kg\"] 1996-12-21   \n",
       "3  HARUTYUNYAN Arsen   Male  Armenia    [\"Men's Freestyle 57kg\"] 1999-11-22   \n",
       "4    TEVANYAN Vazgen   Male  Armenia    [\"Men's Freestyle 65kg\"] 1999-10-27   \n",
       "\n",
       "     nickname                        hobbies occupation  \\\n",
       "0  White Bear  Playing and watching football    Athlete   \n",
       "1         NaN                            NaN        NaN   \n",
       "2         NaN                            NaN        NaN   \n",
       "3         NaN                            NaN    Athlete   \n",
       "4         NaN                            NaN    Athlete   \n",
       "\n",
       "                                          philosophy    disciplines  \\\n",
       "0  \"Wrestling is my life.\" (mediamax.am. 18 May 2...  ['Wrestling']   \n",
       "1  \"To become a good athlete, you first have to b...  ['Wrestling']   \n",
       "2                                                NaN  ['Wrestling']   \n",
       "3  “Nothing is impossible, set goals in front of ...  ['Wrestling']   \n",
       "4                                                NaN  ['Wrestling']   \n",
       "\n",
       "   day_of_year         sign element  \n",
       "0          294        Libra     Air  \n",
       "1           22     Aquarius     Air  \n",
       "2          356  Sagittarius    Fire  \n",
       "3          326  Sagittarius    Fire  \n",
       "4          300      Scorpio   Water  "
      ]
     },
     "execution_count": 31,
     "metadata": {},
     "output_type": "execute_result"
    }
   ],
   "source": [
    "ath_select['element'] = ath_select['sign'].apply(find_element)\n",
    "ath_select.head()"
   ]
  },
  {
   "cell_type": "markdown",
   "id": "225417ff-689e-4333-aff7-eb1de53ed78b",
   "metadata": {},
   "source": [
    "## Turning chosen sports into horoscope elements"
   ]
  },
  {
   "cell_type": "code",
   "execution_count": 34,
   "id": "84e46985-d98e-4865-be63-8d49c31f8e4e",
   "metadata": {
    "tags": []
   },
   "outputs": [
    {
     "name": "stdout",
     "output_type": "stream",
     "text": [
      "0        ['Wrestling']\n",
      "1        ['Wrestling']\n",
      "2        ['Wrestling']\n",
      "3        ['Wrestling']\n",
      "4        ['Wrestling']\n",
      "             ...      \n",
      "11105    ['Athletics']\n",
      "11106         ['Judo']\n",
      "11107    ['Athletics']\n",
      "11108    ['Athletics']\n",
      "11109    ['Wrestling']\n",
      "Name: disciplines, Length: 11110, dtype: string\n"
     ]
    }
   ],
   "source": [
    "ath_select['disciplines'] = ath_select['disciplines'].astype('string')\n",
    "print(ath_select['disciplines'])\n",
    "\n"
   ]
  },
  {
   "cell_type": "markdown",
   "id": "4047d8e7-8fb2-47de-9b6e-3bd8b2dea12b",
   "metadata": {},
   "source": [
    "## Plotting horoscopes"
   ]
  },
  {
   "cell_type": "code",
   "execution_count": 11,
   "id": "79a133ba-7f85-4185-9da4-d4ff281a2092",
   "metadata": {
    "tags": []
   },
   "outputs": [
    {
     "data": {
      "text/plain": [
       "([0, 1, 2, 3, 4, 5, 6, 7, 8, 9, 10, 11],\n",
       " [Text(0, 0, 'Libra'),\n",
       "  Text(1, 0, 'Aquarius'),\n",
       "  Text(2, 0, 'Sagittarius'),\n",
       "  Text(3, 0, 'Scorpio'),\n",
       "  Text(4, 0, 'Virgo'),\n",
       "  Text(5, 0, 'Cancer'),\n",
       "  Text(6, 0, 'Taurus'),\n",
       "  Text(7, 0, 'Pisces'),\n",
       "  Text(8, 0, 'Capricorn'),\n",
       "  Text(9, 0, 'Leo'),\n",
       "  Text(10, 0, 'Gemini'),\n",
       "  Text(11, 0, 'Aries')])"
      ]
     },
     "execution_count": 11,
     "metadata": {},
     "output_type": "execute_result"
    },
    {
     "data": {
      "image/png": "[encoded data removed]",
      "text/plain": [
       "<Figure size 640x480 with 1 Axes>"
      ]
     },
     "metadata": {},
     "output_type": "display_data"
    }
   ],
   "source": [
    "plt.figure()\n",
    "sns.histplot(data=ath_select['sign'])\n",
    "plt.xticks(rotation=45, ha='right')"
   ]
  },
  {
   "cell_type": "code",
   "execution_count": 22,
   "id": "0e1f7847-6bc0-4d64-aedd-035c7d0f5927",
   "metadata": {
    "tags": []
   },
   "outputs": [
    {
     "data": {
      "text/plain": [
       "([0, 1, 2, 3],\n",
       " [Text(0, 0, 'Air'),\n",
       "  Text(1, 0, 'Fire'),\n",
       "  Text(2, 0, 'Water'),\n",
       "  Text(3, 0, 'Earth')])"
      ]
     },
     "execution_count": 22,
     "metadata": {},
     "output_type": "execute_result"
    },
    {
     "data": {
      "image/png": "[encoded data removed]",
      "text/plain": [
       "<Figure size 640x480 with 1 Axes>"
      ]
     },
     "metadata": {},
     "output_type": "display_data"
    }
   ],
   "source": [
    "plt.figure()\n",
    "sns.histplot(data=ath_select['element'])\n",
    "plt.xticks(rotation=45, ha='right')"
   ]
  }
 ],
 "metadata": {
  "kernelspec": {
   "display_name": "Python 3.10.0",
   "language": "python",
   "name": "python3.10.0"
  },
  "language_info": {
   "codemirror_mode": {
    "name": "ipython",
    "version": 3
   },
   "file_extension": ".py",
   "mimetype": "text/x-python",
   "name": "python",
   "nbconvert_exporter": "python",
   "pygments_lexer": "ipython3",
   "version": "3.10.0"
  }
 },
 "nbformat": 4,
 "nbformat_minor": 5
}
